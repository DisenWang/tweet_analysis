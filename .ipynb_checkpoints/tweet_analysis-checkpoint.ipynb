{
 "cells": [
  {
   "cell_type": "code",
   "execution_count": 1,
   "metadata": {
    "collapsed": true
   },
   "outputs": [],
   "source": [
    "# General:\n",
    "import tweepy           # To consume Twitter's API\n",
    "import pandas as pd     # To handle data\n",
    "import numpy as np      # For number computing\n",
    "\n",
    "# For plotting and visualization:\n",
    "from IPython.display import display\n",
    "import matplotlib.pyplot as plt\n",
    "import seaborn as sns\n",
    "%matplotlib inline"
   ]
  },
  {
   "cell_type": "code",
   "execution_count": 2,
   "metadata": {
    "collapsed": true
   },
   "outputs": [],
   "source": [
    "# We import our access keys:\n",
    "from credentials import *    # This will allow us to use the keys as variables\n",
    "\n",
    "# API's setup:\n",
    "def twitter_config():\n",
    "    \"\"\"\n",
    "    Utility function to setup the Twitter's API\n",
    "    with our access keys provided.\n",
    "    \"\"\"\n",
    "    # Authentication and access using keys:\n",
    "    auth = tweepy.OAuthHandler(CONSUMER_KEY, CONSUMER_SECRET)\n",
    "    auth.set_access_token(ACCESS_TOKEN, ACCESS_SECRET)\n",
    "\n",
    "    # Return API with authentication:\n",
    "    api = tweepy.API(auth)\n",
    "    return api"
   ]
  },
  {
   "cell_type": "code",
   "execution_count": 7,
   "metadata": {
    "collapsed": false,
    "scrolled": true
   },
   "outputs": [
    {
     "name": "stdout",
     "output_type": "stream",
     "text": [
      "Tweets obtenidos: 199.\n",
      "\n",
      "Los primeros 5 tweets:\n",
      "\n",
      "RT @rogerfedererfdn: We made an effort to present the new Roger Federer Foundation Annual Report 2017 as early as possible. Have a look and…\n",
      "\n",
      "⛷🇨🇭🥇🤩🤩🤩🤩🤩 https://t.co/OOLMNJzcvX\n",
      "\n",
      "🏂🇨🇭🥇🎇🎆🎇🎆🎇 https://t.co/94Raa8YEI6\n",
      "\n",
      "🥌  🇨🇭 🥉 🍾https://t.co/wqyOEvupep\n",
      "\n",
      "🎿🇨🇭🥉👊💥 https://t.co/FWTXi2cdQt\n",
      "\n"
     ]
    }
   ],
   "source": [
    "# Creamos un objeto extractor:\n",
    "extractor = twitter_config()\n",
    "\n",
    "# Creamos una lista de tweets:\n",
    "tweets_rf = extractor.user_timeline(screen_name=\"rogerfederer\", count=200)\n",
    "print(\"Tweets obtenidos: {}.\\n\".format(len(tweets_rf)))\n",
    "\n",
    "# Imprimimos los primeros 5 tweets:\n",
    "print(\"Los primeros 5 tweets:\\n\")\n",
    "for tweet in tweets_rf[:5]:\n",
    "    print(tweet.text)\n",
    "    print()"
   ]
  },
  {
   "cell_type": "code",
   "execution_count": 8,
   "metadata": {
    "collapsed": false
   },
   "outputs": [
    {
     "name": "stdout",
     "output_type": "stream",
     "text": [
      "Tweets obtenidos: 200.\n",
      "\n",
      "Los primeros 5 tweets:\n",
      "\n",
      "RT @BORAhansgrohe: Be ready for #Saturday! @StradeBianche with these #BORAhansgrohe guys: \n",
      "@maciejbodnar | @MBurghardt83 | @muehlberger_94…\n",
      "\n",
      "Amig@s ciclistas en la Ciudad de México, este domingo 25 de Feb, tomen sus bicicletas y únanse a #MuéveteEnBici edi… https://t.co/1uMZqzppCN\n",
      "\n",
      "RT @CDMXvive: ¡Participa! 👩🏽 \n",
      "\n",
      "Este domingo se llevará a cabo la Rodada #MujeresPorElClima @c40cities, que busca promover la equidad de gén…\n",
      "\n",
      "After a hard day's work in Sierra Nevada, Spain with my @BORAhansgrohe mates, it was time to have fun with my bike… https://t.co/WZ1PMPJK5d\n",
      "\n",
      "The road to success is long and hard but landscapes like this one make it worth trying... Training hard for the Cla… https://t.co/cb3Mb7E5Tg\n",
      "\n"
     ]
    }
   ],
   "source": [
    "# Creamos un objeto extractor:\n",
    "extractor = twitter_config()\n",
    "\n",
    "# Creamos una lista de tweets:\n",
    "tweets_ps = extractor.user_timeline(screen_name=\"petosagan\", count=200)\n",
    "print(\"Tweets obtenidos: {}.\\n\".format(len(tweets_ps)))\n",
    "\n",
    "# Imprimimos los primeros 5 tweets:\n",
    "print(\"Los primeros 5 tweets:\\n\")\n",
    "for tweet in tweets_ps[:5]:\n",
    "    print(tweet.text)\n",
    "    print()"
   ]
  },
  {
   "cell_type": "code",
   "execution_count": 9,
   "metadata": {
    "collapsed": false
   },
   "outputs": [
    {
     "name": "stdout",
     "output_type": "stream",
     "text": [
      "Tweets obtenidos: 200.\n",
      "\n",
      "Los primeros 5 tweets:\n",
      "\n",
      "On my way LA! https://t.co/TZUWXqpTo3\n",
      "\n",
      "Shark or Seal, Lion or Gazelle, Wolf or Sheep...which one are you? Watch the latest episode of Musecage Basketball… https://t.co/SVWmlY1hMY\n",
      "\n",
      "RT @UConnWBB: BIG NEWS! CD will be inducted into the Women's Basketball Hall of Fame!!  Congrats CD!!\n",
      "\n",
      "@WBHOF // #UConnNation // #DemandMor…\n",
      "\n",
      "Proud to have my own Granity Studios be a part of the Evolve Entertainment Fund. L.A. is a global hub of creativity… https://t.co/SzEklCEDrd\n",
      "\n",
      "Happy birthday to the 🐐, my muse, my mentor and friend @RealBillRussell\n",
      "\n"
     ]
    }
   ],
   "source": [
    "# Creamos un objeto extractor:\n",
    "extractor = twitter_config()\n",
    "\n",
    "# Creamos una lista de tweets:\n",
    "tweets_kb = extractor.user_timeline(screen_name=\"kobebryant\", count=200)\n",
    "print(\"Tweets obtenidos: {}.\\n\".format(len(tweets_kb)))\n",
    "\n",
    "# Imprimimos los primeros 5 tweets:\n",
    "print(\"Los primeros 5 tweets:\\n\")\n",
    "for tweet in tweets_kb[:5]:\n",
    "    print(tweet.text)\n",
    "    print()"
   ]
  },
  {
   "cell_type": "code",
   "execution_count": 14,
   "metadata": {
    "collapsed": false
   },
   "outputs": [
    {
     "data": {
      "text/html": [
       "<div>\n",
       "<style scoped>\n",
       "    .dataframe tbody tr th:only-of-type {\n",
       "        vertical-align: middle;\n",
       "    }\n",
       "\n",
       "    .dataframe tbody tr th {\n",
       "        vertical-align: top;\n",
       "    }\n",
       "\n",
       "    .dataframe thead th {\n",
       "        text-align: right;\n",
       "    }\n",
       "</style>\n",
       "<table border=\"1\" class=\"dataframe\">\n",
       "  <thead>\n",
       "    <tr style=\"text-align: right;\">\n",
       "      <th></th>\n",
       "      <th>Tweets</th>\n",
       "    </tr>\n",
       "  </thead>\n",
       "  <tbody>\n",
       "    <tr>\n",
       "      <th>0</th>\n",
       "      <td>RT @rogerfedererfdn: We made an effort to pres...</td>\n",
       "    </tr>\n",
       "    <tr>\n",
       "      <th>1</th>\n",
       "      <td>⛷🇨🇭🥇🤩🤩🤩🤩🤩 https://t.co/OOLMNJzcvX</td>\n",
       "    </tr>\n",
       "    <tr>\n",
       "      <th>2</th>\n",
       "      <td>🏂🇨🇭🥇🎇🎆🎇🎆🎇 https://t.co/94Raa8YEI6</td>\n",
       "    </tr>\n",
       "    <tr>\n",
       "      <th>3</th>\n",
       "      <td>🥌  🇨🇭 🥉 🍾https://t.co/wqyOEvupep</td>\n",
       "    </tr>\n",
       "    <tr>\n",
       "      <th>4</th>\n",
       "      <td>🎿🇨🇭🥉👊💥 https://t.co/FWTXi2cdQt</td>\n",
       "    </tr>\n",
       "    <tr>\n",
       "      <th>5</th>\n",
       "      <td>Excited to be heading to Monaco for the @Laure...</td>\n",
       "    </tr>\n",
       "    <tr>\n",
       "      <th>6</th>\n",
       "      <td>🎿🇨🇭🥇🤩 Michelle 🎯\\n🎿🇨🇭🥉😃 Wendy 🥂 \\n https://t.c...</td>\n",
       "    </tr>\n",
       "    <tr>\n",
       "      <th>7</th>\n",
       "      <td>🎿🇨🇭🥈🕺👍 https://t.co/6rPhYOog2x</td>\n",
       "    </tr>\n",
       "    <tr>\n",
       "      <th>8</th>\n",
       "      <td>🎿🇨🇭🥈Cmoooon 👊💥 https://t.co/N9pchngfR2</td>\n",
       "    </tr>\n",
       "    <tr>\n",
       "      <th>9</th>\n",
       "      <td>😂 https://t.co/nvP1IMWXP2</td>\n",
       "    </tr>\n",
       "  </tbody>\n",
       "</table>\n",
       "</div>"
      ],
      "text/plain": [
       "                                              Tweets\n",
       "0  RT @rogerfedererfdn: We made an effort to pres...\n",
       "1                  ⛷🇨🇭🥇🤩🤩🤩🤩🤩 https://t.co/OOLMNJzcvX\n",
       "2                  🏂🇨🇭🥇🎇🎆🎇🎆🎇 https://t.co/94Raa8YEI6\n",
       "3                   🥌  🇨🇭 🥉 🍾https://t.co/wqyOEvupep\n",
       "4                     🎿🇨🇭🥉👊💥 https://t.co/FWTXi2cdQt\n",
       "5  Excited to be heading to Monaco for the @Laure...\n",
       "6  🎿🇨🇭🥇🤩 Michelle 🎯\\n🎿🇨🇭🥉😃 Wendy 🥂 \\n https://t.c...\n",
       "7                     🎿🇨🇭🥈🕺👍 https://t.co/6rPhYOog2x\n",
       "8             🎿🇨🇭🥈Cmoooon 👊💥 https://t.co/N9pchngfR2\n",
       "9                          😂 https://t.co/nvP1IMWXP2"
      ]
     },
     "metadata": {},
     "output_type": "display_data"
    }
   ],
   "source": [
    "# We create a pandas dataframe as follows:\n",
    "data_rf = pd.DataFrame(data=[tweet.text for tweet in tweets_rf], columns=['Tweets'])\n",
    "\n",
    "# We display the first 10 elements of the dataframe:\n",
    "display(data_rf.head(10))"
   ]
  },
  {
   "cell_type": "code",
   "execution_count": 15,
   "metadata": {
    "collapsed": false
   },
   "outputs": [
    {
     "data": {
      "text/html": [
       "<div>\n",
       "<style scoped>\n",
       "    .dataframe tbody tr th:only-of-type {\n",
       "        vertical-align: middle;\n",
       "    }\n",
       "\n",
       "    .dataframe tbody tr th {\n",
       "        vertical-align: top;\n",
       "    }\n",
       "\n",
       "    .dataframe thead th {\n",
       "        text-align: right;\n",
       "    }\n",
       "</style>\n",
       "<table border=\"1\" class=\"dataframe\">\n",
       "  <thead>\n",
       "    <tr style=\"text-align: right;\">\n",
       "      <th></th>\n",
       "      <th>Tweets</th>\n",
       "    </tr>\n",
       "  </thead>\n",
       "  <tbody>\n",
       "    <tr>\n",
       "      <th>0</th>\n",
       "      <td>RT @BORAhansgrohe: Be ready for #Saturday! @St...</td>\n",
       "    </tr>\n",
       "    <tr>\n",
       "      <th>1</th>\n",
       "      <td>Amig@s ciclistas en la Ciudad de México, este ...</td>\n",
       "    </tr>\n",
       "    <tr>\n",
       "      <th>2</th>\n",
       "      <td>RT @CDMXvive: ¡Participa! 👩🏽 \\n\\nEste domingo ...</td>\n",
       "    </tr>\n",
       "    <tr>\n",
       "      <th>3</th>\n",
       "      <td>After a hard day's work in Sierra Nevada, Spai...</td>\n",
       "    </tr>\n",
       "    <tr>\n",
       "      <th>4</th>\n",
       "      <td>The road to success is long and hard but lands...</td>\n",
       "    </tr>\n",
       "    <tr>\n",
       "      <th>5</th>\n",
       "      <td>RT @petosagan: RIDE WITH ME! I love California...</td>\n",
       "    </tr>\n",
       "    <tr>\n",
       "      <th>6</th>\n",
       "      <td>RIDE WITH ME! I love California and we’re head...</td>\n",
       "    </tr>\n",
       "    <tr>\n",
       "      <th>7</th>\n",
       "      <td>RT @YellowJersey_ed: Here it is... the one you...</td>\n",
       "    </tr>\n",
       "    <tr>\n",
       "      <th>8</th>\n",
       "      <td>My World... coming on October 4th https://t.co...</td>\n",
       "    </tr>\n",
       "    <tr>\n",
       "      <th>9</th>\n",
       "      <td>They didn't let me wear my brand new S-Works 7...</td>\n",
       "    </tr>\n",
       "  </tbody>\n",
       "</table>\n",
       "</div>"
      ],
      "text/plain": [
       "                                              Tweets\n",
       "0  RT @BORAhansgrohe: Be ready for #Saturday! @St...\n",
       "1  Amig@s ciclistas en la Ciudad de México, este ...\n",
       "2  RT @CDMXvive: ¡Participa! 👩🏽 \\n\\nEste domingo ...\n",
       "3  After a hard day's work in Sierra Nevada, Spai...\n",
       "4  The road to success is long and hard but lands...\n",
       "5  RT @petosagan: RIDE WITH ME! I love California...\n",
       "6  RIDE WITH ME! I love California and we’re head...\n",
       "7  RT @YellowJersey_ed: Here it is... the one you...\n",
       "8  My World... coming on October 4th https://t.co...\n",
       "9  They didn't let me wear my brand new S-Works 7..."
      ]
     },
     "metadata": {},
     "output_type": "display_data"
    }
   ],
   "source": [
    "# We create a pandas dataframe as follows:\n",
    "data_ps = pd.DataFrame(data=[tweet.text for tweet in tweets_ps], columns=['Tweets'])\n",
    "\n",
    "# We display the first 10 elements of the dataframe:\n",
    "display(data_ps.head(10))"
   ]
  },
  {
   "cell_type": "code",
   "execution_count": 16,
   "metadata": {
    "collapsed": false
   },
   "outputs": [
    {
     "data": {
      "text/html": [
       "<div>\n",
       "<style scoped>\n",
       "    .dataframe tbody tr th:only-of-type {\n",
       "        vertical-align: middle;\n",
       "    }\n",
       "\n",
       "    .dataframe tbody tr th {\n",
       "        vertical-align: top;\n",
       "    }\n",
       "\n",
       "    .dataframe thead th {\n",
       "        text-align: right;\n",
       "    }\n",
       "</style>\n",
       "<table border=\"1\" class=\"dataframe\">\n",
       "  <thead>\n",
       "    <tr style=\"text-align: right;\">\n",
       "      <th></th>\n",
       "      <th>Tweets</th>\n",
       "    </tr>\n",
       "  </thead>\n",
       "  <tbody>\n",
       "    <tr>\n",
       "      <th>0</th>\n",
       "      <td>On my way LA! https://t.co/TZUWXqpTo3</td>\n",
       "    </tr>\n",
       "    <tr>\n",
       "      <th>1</th>\n",
       "      <td>Shark or Seal, Lion or Gazelle, Wolf or Sheep....</td>\n",
       "    </tr>\n",
       "    <tr>\n",
       "      <th>2</th>\n",
       "      <td>RT @UConnWBB: BIG NEWS! CD will be inducted in...</td>\n",
       "    </tr>\n",
       "    <tr>\n",
       "      <th>3</th>\n",
       "      <td>Proud to have my own Granity Studios be a part...</td>\n",
       "    </tr>\n",
       "    <tr>\n",
       "      <th>4</th>\n",
       "      <td>Happy birthday to the 🐐, my muse, my mentor an...</td>\n",
       "    </tr>\n",
       "    <tr>\n",
       "      <th>5</th>\n",
       "      <td>Much luv to @JordanClarksons and @Larrydn22 tw...</td>\n",
       "    </tr>\n",
       "    <tr>\n",
       "      <th>6</th>\n",
       "      <td>RT @Eagles: Watch live as the World Champion P...</td>\n",
       "    </tr>\n",
       "    <tr>\n",
       "      <th>7</th>\n",
       "      <td>I wish I could be there @greengoblin but build...</td>\n",
       "    </tr>\n",
       "    <tr>\n",
       "      <th>8</th>\n",
       "      <td>Loved all the Protro thoughts. @BrianPatrickP ...</td>\n",
       "    </tr>\n",
       "    <tr>\n",
       "      <th>9</th>\n",
       "      <td>Dream Big things then Do Big things @WNBAPrez ...</td>\n",
       "    </tr>\n",
       "  </tbody>\n",
       "</table>\n",
       "</div>"
      ],
      "text/plain": [
       "                                              Tweets\n",
       "0              On my way LA! https://t.co/TZUWXqpTo3\n",
       "1  Shark or Seal, Lion or Gazelle, Wolf or Sheep....\n",
       "2  RT @UConnWBB: BIG NEWS! CD will be inducted in...\n",
       "3  Proud to have my own Granity Studios be a part...\n",
       "4  Happy birthday to the 🐐, my muse, my mentor an...\n",
       "5  Much luv to @JordanClarksons and @Larrydn22 tw...\n",
       "6  RT @Eagles: Watch live as the World Champion P...\n",
       "7  I wish I could be there @greengoblin but build...\n",
       "8  Loved all the Protro thoughts. @BrianPatrickP ...\n",
       "9  Dream Big things then Do Big things @WNBAPrez ..."
      ]
     },
     "metadata": {},
     "output_type": "display_data"
    }
   ],
   "source": [
    "# We create a pandas dataframe as follows:\n",
    "data_kb = pd.DataFrame(data=[tweet.text for tweet in tweets_kb], columns=['Tweets'])\n",
    "\n",
    "# We display the first 10 elements of the dataframe:\n",
    "display(data_kb.head(10))"
   ]
  },
  {
   "cell_type": "code",
   "execution_count": 17,
   "metadata": {
    "collapsed": true
   },
   "outputs": [],
   "source": [
    "# We add relevant data:\n",
    "data_rf['len']  = np.array([len(tweet.text) for tweet in tweets_rf])\n",
    "data_rf['ID']   = np.array([tweet.id for tweet in tweets_rf])\n",
    "data_rf['Date'] = np.array([tweet.created_at for tweet in tweets_rf])\n",
    "data_rf['Source'] = np.array([tweet.source for tweet in tweets_rf])\n",
    "data_rf['Likes']  = np.array([tweet.favorite_count for tweet in tweets_rf])\n",
    "data_rf['RTs']    = np.array([tweet.retweet_count for tweet in tweets_rf])"
   ]
  },
  {
   "cell_type": "code",
   "execution_count": 18,
   "metadata": {
    "collapsed": false
   },
   "outputs": [
    {
     "data": {
      "text/html": [
       "<div>\n",
       "<style scoped>\n",
       "    .dataframe tbody tr th:only-of-type {\n",
       "        vertical-align: middle;\n",
       "    }\n",
       "\n",
       "    .dataframe tbody tr th {\n",
       "        vertical-align: top;\n",
       "    }\n",
       "\n",
       "    .dataframe thead th {\n",
       "        text-align: right;\n",
       "    }\n",
       "</style>\n",
       "<table border=\"1\" class=\"dataframe\">\n",
       "  <thead>\n",
       "    <tr style=\"text-align: right;\">\n",
       "      <th></th>\n",
       "      <th>Tweets</th>\n",
       "      <th>len</th>\n",
       "      <th>ID</th>\n",
       "      <th>Date</th>\n",
       "      <th>Source</th>\n",
       "      <th>Likes</th>\n",
       "      <th>RTs</th>\n",
       "    </tr>\n",
       "  </thead>\n",
       "  <tbody>\n",
       "    <tr>\n",
       "      <th>0</th>\n",
       "      <td>RT @rogerfedererfdn: We made an effort to pres...</td>\n",
       "      <td>140</td>\n",
       "      <td>968239679802880000</td>\n",
       "      <td>2018-02-26 21:41:43</td>\n",
       "      <td>Tweetbot for iΟS</td>\n",
       "      <td>0</td>\n",
       "      <td>499</td>\n",
       "    </tr>\n",
       "    <tr>\n",
       "      <th>1</th>\n",
       "      <td>⛷🇨🇭🥇🤩🤩🤩🤩🤩 https://t.co/OOLMNJzcvX</td>\n",
       "      <td>33</td>\n",
       "      <td>967535293158121477</td>\n",
       "      <td>2018-02-24 23:02:44</td>\n",
       "      <td>Tweetbot for iΟS</td>\n",
       "      <td>3832</td>\n",
       "      <td>295</td>\n",
       "    </tr>\n",
       "    <tr>\n",
       "      <th>2</th>\n",
       "      <td>🏂🇨🇭🥇🎇🎆🎇🎆🎇 https://t.co/94Raa8YEI6</td>\n",
       "      <td>33</td>\n",
       "      <td>967534974323908609</td>\n",
       "      <td>2018-02-24 23:01:28</td>\n",
       "      <td>Tweetbot for iΟS</td>\n",
       "      <td>5489</td>\n",
       "      <td>352</td>\n",
       "    </tr>\n",
       "    <tr>\n",
       "      <th>3</th>\n",
       "      <td>🥌  🇨🇭 🥉 🍾https://t.co/wqyOEvupep</td>\n",
       "      <td>32</td>\n",
       "      <td>967154289675264001</td>\n",
       "      <td>2018-02-23 21:48:46</td>\n",
       "      <td>Tweetbot for iΟS</td>\n",
       "      <td>4453</td>\n",
       "      <td>375</td>\n",
       "    </tr>\n",
       "    <tr>\n",
       "      <th>4</th>\n",
       "      <td>🎿🇨🇭🥉👊💥 https://t.co/FWTXi2cdQt</td>\n",
       "      <td>30</td>\n",
       "      <td>967153991548375040</td>\n",
       "      <td>2018-02-23 21:47:35</td>\n",
       "      <td>Tweetbot for iΟS</td>\n",
       "      <td>3337</td>\n",
       "      <td>298</td>\n",
       "    </tr>\n",
       "    <tr>\n",
       "      <th>5</th>\n",
       "      <td>Excited to be heading to Monaco for the @Laure...</td>\n",
       "      <td>124</td>\n",
       "      <td>967072057237393409</td>\n",
       "      <td>2018-02-23 16:22:00</td>\n",
       "      <td>Twitter for iPhone</td>\n",
       "      <td>13680</td>\n",
       "      <td>1466</td>\n",
       "    </tr>\n",
       "    <tr>\n",
       "      <th>6</th>\n",
       "      <td>🎿🇨🇭🥇🤩 Michelle 🎯\\n🎿🇨🇭🥉😃 Wendy 🥂 \\n https://t.c...</td>\n",
       "      <td>56</td>\n",
       "      <td>966757966912376833</td>\n",
       "      <td>2018-02-22 19:33:55</td>\n",
       "      <td>Tweetbot for iΟS</td>\n",
       "      <td>6017</td>\n",
       "      <td>471</td>\n",
       "    </tr>\n",
       "    <tr>\n",
       "      <th>7</th>\n",
       "      <td>🎿🇨🇭🥈🕺👍 https://t.co/6rPhYOog2x</td>\n",
       "      <td>30</td>\n",
       "      <td>966756370908401667</td>\n",
       "      <td>2018-02-22 19:27:34</td>\n",
       "      <td>Tweetbot for iΟS</td>\n",
       "      <td>4483</td>\n",
       "      <td>386</td>\n",
       "    </tr>\n",
       "    <tr>\n",
       "      <th>8</th>\n",
       "      <td>🎿🇨🇭🥈Cmoooon 👊💥 https://t.co/N9pchngfR2</td>\n",
       "      <td>38</td>\n",
       "      <td>966377272096718848</td>\n",
       "      <td>2018-02-21 18:21:10</td>\n",
       "      <td>Tweetbot for iΟS</td>\n",
       "      <td>7275</td>\n",
       "      <td>559</td>\n",
       "    </tr>\n",
       "    <tr>\n",
       "      <th>9</th>\n",
       "      <td>😂 https://t.co/nvP1IMWXP2</td>\n",
       "      <td>25</td>\n",
       "      <td>965328156956610560</td>\n",
       "      <td>2018-02-18 20:52:22</td>\n",
       "      <td>Twitter for iPhone</td>\n",
       "      <td>7034</td>\n",
       "      <td>623</td>\n",
       "    </tr>\n",
       "  </tbody>\n",
       "</table>\n",
       "</div>"
      ],
      "text/plain": [
       "                                              Tweets  len                  ID  \\\n",
       "0  RT @rogerfedererfdn: We made an effort to pres...  140  968239679802880000   \n",
       "1                  ⛷🇨🇭🥇🤩🤩🤩🤩🤩 https://t.co/OOLMNJzcvX   33  967535293158121477   \n",
       "2                  🏂🇨🇭🥇🎇🎆🎇🎆🎇 https://t.co/94Raa8YEI6   33  967534974323908609   \n",
       "3                   🥌  🇨🇭 🥉 🍾https://t.co/wqyOEvupep   32  967154289675264001   \n",
       "4                     🎿🇨🇭🥉👊💥 https://t.co/FWTXi2cdQt   30  967153991548375040   \n",
       "5  Excited to be heading to Monaco for the @Laure...  124  967072057237393409   \n",
       "6  🎿🇨🇭🥇🤩 Michelle 🎯\\n🎿🇨🇭🥉😃 Wendy 🥂 \\n https://t.c...   56  966757966912376833   \n",
       "7                     🎿🇨🇭🥈🕺👍 https://t.co/6rPhYOog2x   30  966756370908401667   \n",
       "8             🎿🇨🇭🥈Cmoooon 👊💥 https://t.co/N9pchngfR2   38  966377272096718848   \n",
       "9                          😂 https://t.co/nvP1IMWXP2   25  965328156956610560   \n",
       "\n",
       "                 Date              Source  Likes   RTs  \n",
       "0 2018-02-26 21:41:43    Tweetbot for iΟS      0   499  \n",
       "1 2018-02-24 23:02:44    Tweetbot for iΟS   3832   295  \n",
       "2 2018-02-24 23:01:28    Tweetbot for iΟS   5489   352  \n",
       "3 2018-02-23 21:48:46    Tweetbot for iΟS   4453   375  \n",
       "4 2018-02-23 21:47:35    Tweetbot for iΟS   3337   298  \n",
       "5 2018-02-23 16:22:00  Twitter for iPhone  13680  1466  \n",
       "6 2018-02-22 19:33:55    Tweetbot for iΟS   6017   471  \n",
       "7 2018-02-22 19:27:34    Tweetbot for iΟS   4483   386  \n",
       "8 2018-02-21 18:21:10    Tweetbot for iΟS   7275   559  \n",
       "9 2018-02-18 20:52:22  Twitter for iPhone   7034   623  "
      ]
     },
     "metadata": {},
     "output_type": "display_data"
    }
   ],
   "source": [
    "# Display of first 10 elements from dataframe:\n",
    "display(data_rf.head(10))"
   ]
  },
  {
   "cell_type": "code",
   "execution_count": 19,
   "metadata": {
    "collapsed": true
   },
   "outputs": [],
   "source": [
    "# We add relevant data:\n",
    "data_ps['len']  = np.array([len(tweet.text) for tweet in tweets_ps])\n",
    "data_ps['ID']   = np.array([tweet.id for tweet in tweets_ps])\n",
    "data_ps['Date'] = np.array([tweet.created_at for tweet in tweets_ps])\n",
    "data_ps['Source'] = np.array([tweet.source for tweet in tweets_ps])\n",
    "data_ps['Likes']  = np.array([tweet.favorite_count for tweet in tweets_ps])\n",
    "data_ps['RTs']    = np.array([tweet.retweet_count for tweet in tweets_ps])"
   ]
  },
  {
   "cell_type": "code",
   "execution_count": 20,
   "metadata": {
    "collapsed": true
   },
   "outputs": [],
   "source": [
    "# We add relevant data:\n",
    "data_kb['len']  = np.array([len(tweet.text) for tweet in tweets_kb])\n",
    "data_kb['ID']   = np.array([tweet.id for tweet in tweets_kb])\n",
    "data_kb['Date'] = np.array([tweet.created_at for tweet in tweets_kb])\n",
    "data_kb['Source'] = np.array([tweet.source for tweet in tweets_kb])\n",
    "data_kb['Likes']  = np.array([tweet.favorite_count for tweet in tweets_kb])\n",
    "data_kb['RTs']    = np.array([tweet.retweet_count for tweet in tweets_kb])"
   ]
  },
  {
   "cell_type": "code",
   "execution_count": 48,
   "metadata": {
    "collapsed": false
   },
   "outputs": [
    {
     "name": "stdout",
     "output_type": "stream",
     "text": [
      "The Likes's average in Federer's tweets: 30023.0\n",
      "The Likes's average in Sagan's tweets: 1916.645\n",
      "The Likes's average in Kobe's tweets: 17422.675\n"
     ]
    }
   ],
   "source": [
    "# We extract the mean of lenghts:\n",
    "mean_rf = np.mean(data_rf['Likes'])\n",
    "mean_ps = np.mean(data_ps['Likes'])\n",
    "mean_kb = np.mean(data_kb['Likes'])\n",
    "\n",
    "print(\"The Likes's average in Federer's tweets: {}\".format(mean_rf))\n",
    "\n",
    "print(\"The Likes's average in Sagan's tweets: {}\".format(mean_ps))\n",
    "\n",
    "print(\"The Likes's average in Kobe's tweets: {}\".format(mean_kb))"
   ]
  },
  {
   "cell_type": "code",
   "execution_count": 105,
   "metadata": {
    "collapsed": false
   },
   "outputs": [
    {
     "name": "stdout",
     "output_type": "stream",
     "text": [
      "      name        val\n",
      "0  Federer  30023.000\n",
      "1    Sogan   1916.645\n",
      "2     Kobe  17422.675\n"
     ]
    }
   ],
   "source": [
    "Likes = pd.DataFrame({'name': ['Federer', 'Sogan', 'Kobe'], 'val': [mean_rf, mean_ps, mean_kb]})\n",
    "\n",
    "print(Likes)"
   ]
  },
  {
   "cell_type": "code",
   "execution_count": 108,
   "metadata": {
    "collapsed": false
   },
   "outputs": [
    {
     "name": "stderr",
     "output_type": "stream",
     "text": [
      "/Users/disenwang/anaconda/lib/python3.6/site-packages/seaborn/categorical.py:1428: FutureWarning: remove_na is deprecated and is a private function. Do not use.\n",
      "  stat_data = remove_na(group_data)\n"
     ]
    },
    {
     "data": {
      "text/plain": [
       "<matplotlib.axes._subplots.AxesSubplot at 0x123e06a58>"
      ]
     },
     "execution_count": 108,
     "metadata": {},
     "output_type": "execute_result"
    },
    {
     "data": {
      "image/png": "[encoded data removed]",
      "text/plain": [
       "<matplotlib.figure.Figure at 0x123e06358>"
      ]
     },
     "metadata": {},
     "output_type": "display_data"
    }
   ],
   "source": [
    "plt.figure(figsize=(10,6))\n",
    "sns.barplot(x='name', y = 'val',  data=Likes)\n"
   ]
  },
  {
   "cell_type": "code",
   "execution_count": 24,
   "metadata": {
    "collapsed": false
   },
   "outputs": [
    {
     "data": {
      "image/png": "[encoded data removed]",
      "text/plain": [
       "<matplotlib.figure.Figure at 0x11e084940>"
      ]
     },
     "metadata": {},
     "output_type": "display_data"
    }
   ],
   "source": [
    "# We create time series for data:\n",
    "\n",
    "tfav_rf = pd.Series(data=data_rf['Likes'].values, index=data_rf['Date'])\n",
    "tret_rf = pd.Series(data=data_rf['RTs'].values, index=data_rf['Date'])\n",
    "\n",
    "# Likes vs retweets visualization:\n",
    "tfav_rf.plot(figsize=(16,4), label=\"Likes\", legend=True)\n",
    "tret_rf.plot(figsize=(16,4), label=\"Retweets\", legend=True);"
   ]
  },
  {
   "cell_type": "markdown",
   "metadata": {},
   "source": [
    "On 01/28/2018 Federer wtote: 20. https://twitter.com/rogerfederer/status/957589116027375616\n",
    "\n",
    "On 02/16/2018 Federer wrote: Apparently I'm the oldest tennis player with a #1 ranking. Somebody might have mentioned that to me already but I had a hard time hearing https://twitter.com/rogerfederer/status/964645219760201728\n",
    "\n",
    "On 07/16/2017 Federer wrote: #19 tastes great https://twitter.com/rogerfederer/status/886613154758664193\n",
    "\n",
    "On 09/01/2017 Federer sent a gif https://twitter.com/rogerfederer/status/903802437319852032"
   ]
  },
  {
   "cell_type": "code",
   "execution_count": 26,
   "metadata": {
    "collapsed": false
   },
   "outputs": [
    {
     "data": {
      "image/png": "[encoded data removed]",
      "text/plain": [
       "<matplotlib.figure.Figure at 0x11e10e710>"
      ]
     },
     "metadata": {},
     "output_type": "display_data"
    }
   ],
   "source": [
    "# We create time series for data:\n",
    "\n",
    "tfav_ps = pd.Series(data=data_ps['Likes'].values, index=data_ps['Date'])\n",
    "tret_ps = pd.Series(data=data_ps['RTs'].values, index=data_ps['Date'])\n",
    "\n",
    "\n",
    "\n",
    "# Likes vs retweets visualization:\n",
    "tfav_ps.plot(figsize=(16,4), label=\"Likes\", legend=True)\n",
    "tret_ps.plot(figsize=(16,4), label=\"Retweets\", legend=True);"
   ]
  },
  {
   "cell_type": "markdown",
   "metadata": {},
   "source": [
    "On 07/06/2017 Sagan wrote: Mark, get well soon! I prefer a finish like the one in the first photo 😉 but whatever the outcome, I look forward to racing against you! https://twitter.com/petosagan/status/882929681007341570\n",
    "\n"
   ]
  },
  {
   "cell_type": "code",
   "execution_count": 27,
   "metadata": {
    "collapsed": false
   },
   "outputs": [
    {
     "data": {
      "image/png": "[encoded data removed]",
      "text/plain": [
       "<matplotlib.figure.Figure at 0x11e2d77f0>"
      ]
     },
     "metadata": {},
     "output_type": "display_data"
    }
   ],
   "source": [
    "# We create time series for data:\n",
    "\n",
    "tfav_kb = pd.Series(data=data_kb['Likes'].values, index=data_kb['Date'])\n",
    "tret_kb = pd.Series(data=data_kb['RTs'].values, index=data_kb['Date'])\n",
    "\n",
    "\n",
    "\n",
    "# Likes vs retweets visualization:\n",
    "tfav_kb.plot(figsize=(16,4), label=\"Likes\", legend=True)\n",
    "tret_kb.plot(figsize=(16,4), label=\"Retweets\", legend=True);"
   ]
  },
  {
   "cell_type": "markdown",
   "metadata": {},
   "source": [
    "On 08/12/2017 Kobe retweets from Obama : https://twitter.com/BarackObama/status/896523232098078720"
   ]
  },
  {
   "cell_type": "code",
   "execution_count": 31,
   "metadata": {
    "collapsed": false
   },
   "outputs": [
    {
     "name": "stdout",
     "output_type": "stream",
     "text": [
      "Federer's tweet with more likes is: \n",
      "🏆20. ❤️ https://t.co/WqUiSo3fd5\n",
      "Number of likes: 511483\n",
      "31 characters.\n",
      "\n",
      "Federer tweet with more retweets is: \n",
      "#19 tastes great https://t.co/3Hv3lM5Rk9\n",
      "Number of retweets: 145292\n",
      "40 characters.\n",
      "\n"
     ]
    }
   ],
   "source": [
    "# We extract the tweet with more FAVs and more RTs:\n",
    "\n",
    "fav_max_rf = np.max(data_rf['Likes'])\n",
    "rt_max_rf  = np.max(data_rf['RTs'])\n",
    "\n",
    "fav_rf = data_rf[data_rf.Likes == fav_max_rf].index[0]\n",
    "rt_rf  = data_rf[data_rf.RTs == rt_max_rf].index[0]\n",
    "\n",
    "# Max FAVs:\n",
    "print(\"Federer's tweet with more likes is: \\n{}\".format(data_rf['Tweets'][fav_rf]))\n",
    "print(\"Number of likes: {}\".format(fav_max_rf))\n",
    "print(\"{} characters.\\n\".format(data_rf['len'][fav_rf]))\n",
    "\n",
    "# Max RTs:\n",
    "print(\"Federer tweet with more retweets is: \\n{}\".format(data_rf['Tweets'][rt_rf]))\n",
    "print(\"Number of retweets: {}\".format(rt_max_rf))\n",
    "print(\"{} characters.\\n\".format(data_rf['len'][rt_rf]))"
   ]
  },
  {
   "cell_type": "code",
   "execution_count": 32,
   "metadata": {
    "collapsed": false
   },
   "outputs": [
    {
     "name": "stdout",
     "output_type": "stream",
     "text": [
      "Sagan's tweet with more likes is: \n",
      "Mark, get well soon! I prefer a finish like the one in the first photo 😉 but whatever the outcome, I look forward t… https://t.co/MjsG7ghNXd\n",
      "Number of likes: 25935\n",
      "140 characters.\n",
      "\n",
      "Sagan's tweet with more retweets is: \n",
      "Mark, get well soon! I prefer a finish like the one in the first photo 😉 but whatever the outcome, I look forward t… https://t.co/MjsG7ghNXd\n",
      "Number of retweets: 5927\n",
      "140 characters.\n",
      "\n"
     ]
    }
   ],
   "source": [
    "# We extract the tweet with more FAVs and more RTs:\n",
    "\n",
    "fav_max_ps = np.max(data_ps['Likes'])\n",
    "rt_max_ps  = np.max(data_ps['RTs'])\n",
    "\n",
    "fav_ps = data_ps[data_ps.Likes == fav_max_ps].index[0]\n",
    "rt_ps  = data_ps[data_ps.RTs == rt_max_ps].index[0]\n",
    "\n",
    "# Max FAVs:\n",
    "print(\"Sagan's tweet with more likes is: \\n{}\".format(data_ps['Tweets'][fav_ps]))\n",
    "print(\"Number of likes: {}\".format(fav_max_ps))\n",
    "print(\"{} characters.\\n\".format(data_ps['len'][fav_ps]))\n",
    "\n",
    "# Max RTs:\n",
    "print(\"Sagan's tweet with more retweets is: \\n{}\".format(data_ps['Tweets'][rt_ps]))\n",
    "print(\"Number of retweets: {}\".format(rt_max_ps))\n",
    "print(\"{} characters.\\n\".format(data_ps['len'][rt_ps]))"
   ]
  },
  {
   "cell_type": "code",
   "execution_count": 33,
   "metadata": {
    "collapsed": false
   },
   "outputs": [
    {
     "name": "stdout",
     "output_type": "stream",
     "text": [
      "Federer's tweet with more likes is: \n",
      "A #POTUS whose name alone creates division and anger. Whose words inspire dissension and hatred  can't possibly \"Make America Great Again\"\n",
      "Number of likes: 364918\n",
      "138 characters.\n",
      "\n",
      "Federer tweet with more retweets is: \n",
      "RT @BarackObama: \"No one is born hating another person because of the color of his skin or his background or his religion...\" https://t.co/…\n",
      "Number of retweets: 1716400\n",
      "140 characters.\n",
      "\n"
     ]
    }
   ],
   "source": [
    "# We extract the tweet with more FAVs and more RTs:\n",
    "\n",
    "fav_max_kb = np.max(data_kb['Likes'])\n",
    "rt_max_kb  = np.max(data_kb['RTs'])\n",
    "\n",
    "fav_kb = data_kb[data_kb.Likes == fav_max_kb].index[0]\n",
    "rt_kb  = data_kb[data_kb.RTs == rt_max_kb].index[0]\n",
    "\n",
    "# Max FAVs:\n",
    "print(\"Federer's tweet with more likes is: \\n{}\".format(data_kb['Tweets'][fav_kb]))\n",
    "print(\"Number of likes: {}\".format(fav_max_kb))\n",
    "print(\"{} characters.\\n\".format(data_kb['len'][fav_kb]))\n",
    "\n",
    "# Max RTs:\n",
    "print(\"Federer tweet with more retweets is: \\n{}\".format(data_kb['Tweets'][rt_kb]))\n",
    "print(\"Number of retweets: {}\".format(rt_max_kb))\n",
    "print(\"{} characters.\\n\".format(data_kb['len'][rt_kb]))"
   ]
  },
  {
   "cell_type": "code",
   "execution_count": 34,
   "metadata": {
    "collapsed": true
   },
   "outputs": [],
   "source": [
    "from textblob import TextBlob\n",
    "import re\n",
    "\n",
    "def clean_tweet(tweet):\n",
    "    '''\n",
    "    Utility function to clean the text in a tweet by removing \n",
    "    links and special characters using regex.\n",
    "    '''\n",
    "    return ' '.join(re.sub(\"(@[A-Za-z0-9]+)|([^0-9A-Za-z \\t])|(\\w+:\\/\\/\\S+)\", \" \", tweet).split())\n",
    "\n",
    "def analize_sentiment(tweet):\n",
    "    '''\n",
    "    Utility function to classify the polarity of a tweet\n",
    "    using textblob.\n",
    "    '''\n",
    "    analysis = TextBlob(clean_tweet(tweet))\n",
    "    if analysis.sentiment.polarity > 0:\n",
    "        return 1\n",
    "    elif analysis.sentiment.polarity == 0:\n",
    "        return 0\n",
    "    else:\n",
    "        return -1"
   ]
  },
  {
   "cell_type": "code",
   "execution_count": 45,
   "metadata": {
    "collapsed": false
   },
   "outputs": [
    {
     "data": {
      "text/plain": [
       "<bound method NDFrame.head of                                                 Tweets  len  \\\n",
       "0    RT @BORAhansgrohe: Be ready for #Saturday! @St...  139   \n",
       "1    Amig@s ciclistas en la Ciudad de México, este ...  140   \n",
       "2    RT @CDMXvive: ¡Participa! 👩🏽 \\n\\nEste domingo ...  140   \n",
       "3    After a hard day's work in Sierra Nevada, Spai...  139   \n",
       "4    The road to success is long and hard but lands...  140   \n",
       "5    RT @petosagan: RIDE WITH ME! I love California...  140   \n",
       "6    RIDE WITH ME! I love California and we’re head...  130   \n",
       "7    RT @YellowJersey_ed: Here it is... the one you...  140   \n",
       "8    My World... coming on October 4th https://t.co...   57   \n",
       "9    They didn't let me wear my brand new S-Works 7...  139   \n",
       "10   RT @AmgenTOC: The King of California with 16 s...  143   \n",
       "11   Mark your calendars! Join me on May 5th for th...  140   \n",
       "12   It was crazy hot at @TourDownUnder. Stage 4 wa...  140   \n",
       "13   Come by the 100% stand this week at ISPO Munic...  139   \n",
       "14   Congratulations @JayMcCarthy1 and @Sammmy_Be f...  133   \n",
       "15   Ďakujem vám, že ste si v týchto uponáhľaných d...  140   \n",
       "16   Thank you, everybody, for your warm birthday w...  140   \n",
       "17   We all worked hard for @JayMcCarthy1 today and...  140   \n",
       "18   Nice video of my first @UCI_cycling WorldTour ...  133   \n",
       "19   After today's stage, I finally had a real job ...  139   \n",
       "20   It was very hot today in @southaustralia! @Jay...  139   \n",
       "21   It's getting hotter in @southaustralia. The fa...  139   \n",
       "22   Third place today on stage 1 of @tourdownunder...  129   \n",
       "23   After the People's Choice Classic on Sunday, t...  140   \n",
       "24   Nice video from the finish of today's People’s...  133   \n",
       "25   First race of the season and first victory! @t...  103   \n",
       "26   I dedicate my first victory of the year to my ...  140   \n",
       "27   First race, first victory of 2018 at the @tour...  140   \n",
       "28   Ready for the @tourdownunder with @BORAhansgro...  133   \n",
       "29   RT @BORAhansgrohe: 🇦🇺🚴🏼‍♂️ \\nOne day left! We ...  144   \n",
       "..                                                 ...  ...   \n",
       "170  #WinWithPeter Today’s your chance to win a @sc...  136   \n",
       "171  Bravo Bodi!!!!!! Fantastic result!!!! @BORAhan...   76   \n",
       "172  #WinWithPeter Today’s your chance to win the @...  139   \n",
       "173  #WinWithPeter Today’s your chance to win a @BO...  137   \n",
       "174  #WinWithPeter Today’s your chance to win the @...  140   \n",
       "175  #WinWithPeter Today’s your chance to win @Dinz...  143   \n",
       "176  RT @BORAhansgrohe: even @petosagan is not with...  140   \n",
       "177  #WinWithPeter Today’s your chance to win these...  139   \n",
       "178  #WinWithPeter Today’s your chance to win a per...  130   \n",
       "179  See you on July 29th in Krakow for the start o...  126   \n",
       "180  #WinWithPeter Today’s your chance to win 1 of ...  142   \n",
       "181  RT @c40cities: Biking to work linked to reduce...  140   \n",
       "182  #WinWithPeter Today’s your chance to win 1 of ...  134   \n",
       "183  Ready to race in the upside down #strangerthin...   81   \n",
       "184  #WinWithPeter Today’s your chance to win the @...  143   \n",
       "185  #WinWithPeter Today’s your chance to win the e...  128   \n",
       "186  #WinWithPeter Today’s your chance to win a @Cr...  134   \n",
       "187  #WinWithPeter Today’s your chance to win a @sc...  129   \n",
       "188  #WinWithPeter Today’s your chance to win a pai...  138   \n",
       "189  #WinWithPeter Today's your chance to win 3 pai...  134   \n",
       "190  #WinWithPeter Today's your chance to win a @qm...  137   \n",
       "191  Mark, get well soon! I prefer a finish like th...  140   \n",
       "192                 Thank you! https://t.co/EjBqrRhYFz   34   \n",
       "193  RT @BORAhansgrohe: a day to remember for #BORA...  140   \n",
       "194  First @letour stage victory for @BORAhansgrohe...  111   \n",
       "195  First @LeTour stage win for @BORAhansgrohe ! G...  130   \n",
       "196  RT @LeTour: Sprint incroyable de @petosagan, s...  140   \n",
       "197  First @letour stage win for @BORAhansgrohe! Th...  118   \n",
       "198  Long @letour stage today, through Belgium, Lux...  134   \n",
       "199  #WinWithPeter Today’s your chance to win 6 bot...  138   \n",
       "\n",
       "                     ID                Date               Source  Likes   RTs  \\\n",
       "0    968147894191738881 2018-02-26 15:36:59   Twitter Web Client      0   108   \n",
       "1    967437667150585863 2018-02-24 16:34:48   Twitter Web Client    667   122   \n",
       "2    967420663010127872 2018-02-24 15:27:14   Twitter Web Client      0    10   \n",
       "3    966004325800726530 2018-02-20 17:39:13   Twitter Web Client   3046   359   \n",
       "4    964926468022206465 2018-02-17 18:16:12   Twitter Web Client   5115   766   \n",
       "5    964563456295882752 2018-02-16 18:13:43   Twitter Web Client      0   113   \n",
       "6    964198251787423746 2018-02-15 18:02:31   Twitter Web Client   1055   113   \n",
       "7    963754865909469190 2018-02-14 12:40:40   Twitter Web Client      0    74   \n",
       "8    963748436834246656 2018-02-14 12:15:07   Twitter Web Client   1343   132   \n",
       "9    963027695855644674 2018-02-12 12:31:09   Twitter Web Client   2394   330   \n",
       "10   962065848922812421 2018-02-09 20:49:07  Twitter for Android      0    58   \n",
       "11   961695594447286273 2018-02-08 20:17:51   Twitter Web Client   2193   265   \n",
       "12   959468686565363714 2018-02-02 16:48:55  Twitter for Android   1705   140   \n",
       "13   957588942919995393 2018-01-28 12:19:29   Twitter Web Client    673    51   \n",
       "14   957552635409846272 2018-01-28 09:55:13   Twitter Web Client   1028    72   \n",
       "15   956976367895117824 2018-01-26 19:45:20   Twitter Web Client    937    61   \n",
       "16   956976201066835969 2018-01-26 19:44:40   Twitter Web Client   4951   408   \n",
       "17   954697574883250177 2018-01-20 12:50:13   Twitter Web Client   1770   138   \n",
       "18   954478110854012928 2018-01-19 22:18:09   Twitter Web Client   2246   333   \n",
       "19   954307387292311552 2018-01-19 10:59:45   Twitter Web Client   8713  1573   \n",
       "20   953966001405689856 2018-01-18 12:23:13   Twitter Web Client    907    70   \n",
       "21   953558918818684928 2018-01-17 09:25:37   Twitter Web Client    965    65   \n",
       "22   953203952870477824 2018-01-16 09:55:06   Twitter Web Client   1243    78   \n",
       "23   952862858454413312 2018-01-15 11:19:43   Twitter Web Client   2687   489   \n",
       "24   952532831263182850 2018-01-14 13:28:18   Twitter Web Client   3401   752   \n",
       "25   952519177394360320 2018-01-14 12:34:03   Twitter Web Client   1793   233   \n",
       "26   952506226063093760 2018-01-14 11:42:35   Twitter Web Client   5418   522   \n",
       "27   952490515550867456 2018-01-14 10:40:09   Twitter Web Client   5084   899   \n",
       "28   952173235340283905 2018-01-13 13:39:24   Twitter Web Client   1511   194   \n",
       "29   952146205202579456 2018-01-13 11:51:59   Twitter Web Client      0    98   \n",
       "..                  ...                 ...                  ...    ...   ...   \n",
       "170  889060051620696065 2017-07-23 09:50:08   Twitter Web Client    300    49   \n",
       "171  888785607731949570 2017-07-22 15:39:36   Twitter Web Client   4411   665   \n",
       "172  888738439805505538 2017-07-22 12:32:10   Twitter Web Client    394    63   \n",
       "173  888351292795625473 2017-07-21 10:53:47   Twitter Web Client    282    38   \n",
       "174  887961792785338368 2017-07-20 09:06:03   Twitter Web Client    417    90   \n",
       "175  887608843978592256 2017-07-19 09:43:34   Twitter Web Client    211    21   \n",
       "176  887601898949402624 2017-07-19 09:15:58   Twitter Web Client      0   138   \n",
       "177  887255403238764546 2017-07-18 10:19:07   Twitter Web Client    341    52   \n",
       "178  886512686275678210 2017-07-16 09:07:49   Twitter Web Client    344    47   \n",
       "179  885857675359211520 2017-07-14 13:45:02   Twitter Web Client   2568   320   \n",
       "180  885825450618085377 2017-07-14 11:36:59   Twitter Web Client    252    42   \n",
       "181  885815420342738944 2017-07-14 10:57:08   Twitter Web Client      0   155   \n",
       "182  885486407141216258 2017-07-13 13:09:45   Twitter Web Client    252    27   \n",
       "183  885188949110607872 2017-07-12 17:27:46   Twitter Web Client   8215  2698   \n",
       "184  885083761762848770 2017-07-12 10:29:47   Twitter Web Client    283    38   \n",
       "185  884687580368953344 2017-07-11 08:15:30   Twitter Web Client    372    50   \n",
       "186  884363427258531840 2017-07-10 10:47:26   Twitter Web Client    668    90   \n",
       "187  883976660839800832 2017-07-09 09:10:34   Twitter Web Client    382    52   \n",
       "188  883624854297206784 2017-07-08 09:52:36   Twitter Web Client    679   118   \n",
       "189  883238525780594689 2017-07-07 08:17:28   Twitter Web Client    548    71   \n",
       "190  883021656213643264 2017-07-06 17:55:43   Twitter Web Client    543    64   \n",
       "191  882929681007341570 2017-07-06 11:50:14   Twitter Web Client  25935  5927   \n",
       "192  882638412544704512 2017-07-05 16:32:50   Twitter Web Client  21481  4729   \n",
       "193  881977567959502851 2017-07-03 20:46:53   Twitter Web Client      0   213   \n",
       "194  881974241398317056 2017-07-03 20:33:40         Media Studio   2904   455   \n",
       "195  881970086894071808 2017-07-03 20:17:09   Twitter Web Client   2482   304   \n",
       "196  881940420606951427 2017-07-03 18:19:16   Twitter Web Client      0  1059   \n",
       "197  881909138950950912 2017-07-03 16:14:58   Twitter Web Client   7400  1496   \n",
       "198  881817536739803137 2017-07-03 10:10:58   Twitter Web Client   1415   139   \n",
       "199  881777569384845312 2017-07-03 07:32:09   Twitter Web Client    332    40   \n",
       "\n",
       "     SA  \n",
       "0     1  \n",
       "1     0  \n",
       "2     0  \n",
       "3     1  \n",
       "4    -1  \n",
       "5     1  \n",
       "6     1  \n",
       "7     1  \n",
       "8     0  \n",
       "9     1  \n",
       "10    1  \n",
       "11    1  \n",
       "12   -1  \n",
       "13    1  \n",
       "14    1  \n",
       "15    0  \n",
       "16    1  \n",
       "17    1  \n",
       "18    1  \n",
       "19    1  \n",
       "20    1  \n",
       "21    1  \n",
       "22    1  \n",
       "23    1  \n",
       "24    1  \n",
       "25    1  \n",
       "26    1  \n",
       "27    1  \n",
       "28    1  \n",
       "29    1  \n",
       "..   ..  \n",
       "170   1  \n",
       "171   1  \n",
       "172   1  \n",
       "173   1  \n",
       "174   1  \n",
       "175   1  \n",
       "176   0  \n",
       "177   1  \n",
       "178   1  \n",
       "179   1  \n",
       "180   1  \n",
       "181   1  \n",
       "182   1  \n",
       "183   1  \n",
       "184   1  \n",
       "185   1  \n",
       "186   1  \n",
       "187   1  \n",
       "188   1  \n",
       "189   1  \n",
       "190   1  \n",
       "191   1  \n",
       "192   0  \n",
       "193   1  \n",
       "194   1  \n",
       "195   1  \n",
       "196   1  \n",
       "197   1  \n",
       "198   1  \n",
       "199   1  \n",
       "\n",
       "[200 rows x 8 columns]>"
      ]
     },
     "metadata": {},
     "output_type": "display_data"
    }
   ],
   "source": [
    "# We create a column with the result of the analysis:\n",
    "data_ps['SA'] = np.array([ analize_sentiment(tweet) for tweet in data_ps['Tweets'] ])\n",
    "\n",
    "# We display the updated dataframe with the new column:\n",
    "display(data_ps.head)"
   ]
  },
  {
   "cell_type": "code",
   "execution_count": 46,
   "metadata": {
    "collapsed": false
   },
   "outputs": [
    {
     "data": {
      "text/plain": [
       "<bound method NDFrame.head of                                                 Tweets  len  \\\n",
       "0                On my way LA! https://t.co/TZUWXqpTo3   37   \n",
       "1    Shark or Seal, Lion or Gazelle, Wolf or Sheep....  139   \n",
       "2    RT @UConnWBB: BIG NEWS! CD will be inducted in...  140   \n",
       "3    Proud to have my own Granity Studios be a part...  140   \n",
       "4    Happy birthday to the 🐐, my muse, my mentor an...   71   \n",
       "5    Much luv to @JordanClarksons and @Larrydn22 tw...  140   \n",
       "6    RT @Eagles: Watch live as the World Champion P...  132   \n",
       "7    I wish I could be there @greengoblin but build...  140   \n",
       "8    Loved all the Protro thoughts. @BrianPatrickP ...  140   \n",
       "9    Dream Big things then Do Big things @WNBAPrez ...   96   \n",
       "10   Kobe 1 Protro. 2005 design. Modern day technol...  103   \n",
       "11                          Protro = Performance Retro   26   \n",
       "12                          🙏🏾 https://t.co/6lHlUpKV19   26   \n",
       "13   RT @jemelehill: Spent this morning chatting w/...  140   \n",
       "14   RT @TheUndefeated: Be a part of our live audie...  140   \n",
       "15   What does the word “Protro” mean? 🤔 Special pr...   95   \n",
       "16   YES!!!!!!!!!!!! #EAGLES #SUPERBOWLCHAMPS #PHIL...   69   \n",
       "17             It’s go time #EaglesNation #FlyEagleFly   39   \n",
       "18                           🙌 https://t.co/bMubNoZTZ0   25   \n",
       "19                           💪 https://t.co/gp5JbAZx2h   25   \n",
       "20                  🙌 @VULions https://t.co/3SIgKM1VgF   34   \n",
       "21   Yup! I LOVE it @DrinkBODYARMOR #fam #Obsession...   79   \n",
       "22   Congrats and well deserved @SerenaWinters wish...  123   \n",
       "23                             @MilesBrown 👍 #Blackish   23   \n",
       "24   Thank you for having me! I learned so much in ...  133   \n",
       "25            Rest In Peace my brother 🙏🏾#RasualButler   40   \n",
       "26   @JHarden13 #60 #tripdub @DrinkBODYARMOR #obses...   59   \n",
       "27   Great to witness the whole @shondarhimes famil...  124   \n",
       "28   Congrats to my man @kendricklamar on a big nig...   79   \n",
       "29            Simple @rogerfederer = 🐐 #AustralianOpen   40   \n",
       "..                                                 ...  ...   \n",
       "170  congrats @Catchin24 on your jersey being raise...  139   \n",
       "171  RT @_Verts: On Jewell Loyd's breakout season, ...  112   \n",
       "172  RT @VICESports: While Phil Jackson was helping...  140   \n",
       "173  RT @nikebasketball: The 🐐\\nCongrats Diana Taur...  120   \n",
       "174  Congrats @DianaTaurasi #goat #whitemamba #muse...   50   \n",
       "175                Congrats @warriors #GoldenDemocracy   35   \n",
       "176  We were a democratic kingdom. I should probabl...  136   \n",
       "177          Congrats @RafaelNadal #Decima #FrenchOpen   41   \n",
       "178  I didn't realize till now that there's actuall...  134   \n",
       "179  Thank you. I had a great time creating them ht...   67   \n",
       "180                             @ScottHaze Thank you 👌   22   \n",
       "181  Doesn't matter to me my man but it was good to...  123   \n",
       "182  Yup but their defensive pressure was also 🙌 ht...   67   \n",
       "183  Not when the #2crowns deliver and more importa...  108   \n",
       "184                          💯 https://t.co/e9rbDANCJ3   25   \n",
       "185  Here's what it means @Dj_E5QUIRE https://t.co/...   56   \n",
       "186                                           #2crowns    8   \n",
       "187  👑👑 Canvas: Cavalier Kingdom, watch it here. @E...   76   \n",
       "188  The monarchy vs the democratic system. Canvas:...  132   \n",
       "189  Is there an answer to GS’s democratic system? ...  140   \n",
       "190  RT @BaxterHolmes: How the @warriors’ @StephenC...  144   \n",
       "191  #81olives @JalenRose haha #jalenvseverybody 7:...   71   \n",
       "192  Congrats @DianaTaurasi on being the @WNBA all ...   69   \n",
       "193        #ObsessionIsNatural https://t.co/cY5GiBKCdN   43   \n",
       "194  RT @DrinkBODYARMOR: .@KlayThompson is OBSESSED...  138   \n",
       "195                   🙌 #totti https://t.co/8JBHZ6IWQa   32   \n",
       "196  My sis @sydneyleroux is back in her musecage!!...   81   \n",
       "197  Canvas: The Golden Democracy.  The Warriors ga...  104   \n",
       "198  The next Canvas episode airs tonight @ 830pmES...  138   \n",
       "199  RT @DrinkBODYARMOR: 👀👀\\n#SuperiorHydration #Sw...   83   \n",
       "\n",
       "                     ID                Date              Source  Likes    RTs  \\\n",
       "0    964289655762968578 2018-02-16 00:05:44  Twitter for iPhone   8595   1112   \n",
       "1    963941542564999169 2018-02-15 01:02:27  Twitter for iPhone   2027    428   \n",
       "2    963546713662173186 2018-02-13 22:53:33  Twitter for iPhone      0    363   \n",
       "3    963178454953771008 2018-02-12 22:30:13  Twitter for iPhone   2397    300   \n",
       "4    963109783992598528 2018-02-12 17:57:20  Twitter for iPhone  22545   2909   \n",
       "5    961780638968721408 2018-02-09 01:55:48  Twitter for iPhone  69513  16832   \n",
       "6    961625634387542016 2018-02-08 15:39:52  Twitter for iPhone      0   4339   \n",
       "7    961443232834977793 2018-02-08 03:35:04  Twitter for iPhone   8811   1405   \n",
       "8    961381200450351104 2018-02-07 23:28:34  Twitter Web Client   1571    144   \n",
       "9    961365731353874432 2018-02-07 22:27:06  Twitter for iPhone   4548    981   \n",
       "10   961306831195787265 2018-02-07 18:33:03  Twitter Web Client  31008   8286   \n",
       "11   961306385844649984 2018-02-07 18:31:17  Twitter Web Client  14793   2816   \n",
       "12   961096080069980161 2018-02-07 04:35:36  Twitter for iPhone   3300    359   \n",
       "13   961014713843826688 2018-02-06 23:12:17  Twitter for iPhone      0   1168   \n",
       "14   960983172128190465 2018-02-06 21:06:57  Twitter for iPhone      0    186   \n",
       "15   960577360587243520 2018-02-05 18:14:24  Twitter for iPhone   6600    537   \n",
       "16   960352456113733632 2018-02-05 03:20:42  Twitter for iPhone  89080  27355   \n",
       "17   960292573314138112 2018-02-04 23:22:45  Twitter for iPhone  17431   5423   \n",
       "18   960286317115404288 2018-02-04 22:57:53  Twitter for iPhone   4905    538   \n",
       "19   960243138425118720 2018-02-04 20:06:19  Twitter for iPhone  15245   3526   \n",
       "20   959886990442348544 2018-02-03 20:31:07  Twitter for iPhone   2087    266   \n",
       "21   959224068577812480 2018-02-02 00:36:54  Twitter for iPhone   3195    355   \n",
       "22   959117045353799680 2018-02-01 17:31:37  Twitter for iPhone   5812    760   \n",
       "23   959099075336417281 2018-02-01 16:20:13  Twitter for iPhone    422     39   \n",
       "24   958882999306612736 2018-02-01 02:01:36  Twitter for iPhone  14436   2032   \n",
       "25   958803306310074369 2018-01-31 20:44:56  Twitter for iPhone  34659   7141   \n",
       "26   958561446790483968 2018-01-31 04:43:52  Twitter for iPhone   5217   1197   \n",
       "27   958188404860047360 2018-01-30 04:01:32  Twitter for iPhone   4481    595   \n",
       "28   957990454187851776 2018-01-29 14:54:57  Twitter for iPhone  23954   4002   \n",
       "29   957719655296090113 2018-01-28 20:58:54  Twitter for iPhone  19317   3929   \n",
       "..                  ...                 ...                 ...    ...    ...   \n",
       "170  878819304380055552 2017-06-25 03:37:04  Twitter for iPhone  11029   1905   \n",
       "171  877922471894106112 2017-06-22 16:13:22  Twitter for iPhone      0    136   \n",
       "172  877587867450486784 2017-06-21 18:03:47  Twitter for iPhone      0    958   \n",
       "173  876600112352329728 2017-06-19 00:38:47  Twitter for iPhone      0   4261   \n",
       "174  876598853268512768 2017-06-19 00:33:47  Twitter for iPhone  11897   2823   \n",
       "175  874479915680149505 2017-06-13 04:13:53  Twitter for iPhone  51691  20256   \n",
       "176  874130886370840576 2017-06-12 05:06:58  Twitter for iPhone  10263   2428   \n",
       "177  874006163351678976 2017-06-11 20:51:22  Twitter for iPhone   8623   2127   \n",
       "178  873720359161176064 2017-06-11 01:55:41  Twitter for iPhone  12055   3947   \n",
       "179  873406247936024576 2017-06-10 05:07:31  Twitter for iPhone   3034    383   \n",
       "180  873402496625942528 2017-06-10 04:52:36  Twitter for iPhone    137     31   \n",
       "181  873402211040075776 2017-06-10 04:51:28  Twitter for iPhone   7719   2169   \n",
       "182  873392816109436928 2017-06-10 04:14:08  Twitter for iPhone   6420   1772   \n",
       "183  873389986015363074 2017-06-10 04:02:54  Twitter for iPhone   6735   3020   \n",
       "184  873388574879629312 2017-06-10 03:57:17  Twitter for iPhone  70687  35583   \n",
       "185  873386783890841601 2017-06-10 03:50:10  Twitter for iPhone   3407   1174   \n",
       "186  873383077145227264 2017-06-10 03:35:26  Twitter for iPhone  15837   6944   \n",
       "187  873333281311174660 2017-06-10 00:17:34        Media Studio  15218   8179   \n",
       "188  873275531239673856 2017-06-09 20:28:05  Twitter Web Client   2913    774   \n",
       "189  872958656454709249 2017-06-08 23:28:57        Media Studio   8339   3517   \n",
       "190  872176109936230400 2017-06-06 19:39:23  Twitter for iPhone      0    484   \n",
       "191  872174454700351488 2017-06-06 19:32:48  Twitter for iPhone   9966   3089   \n",
       "192  870472982929395714 2017-06-02 02:51:46  Twitter for iPhone   9587   2532   \n",
       "193  870357340398039041 2017-06-01 19:12:15  Twitter Web Client   4442   1388   \n",
       "194  870012072293093376 2017-05-31 20:20:16  Twitter for iPhone      0    405   \n",
       "195  868949537313873921 2017-05-28 21:58:08  Twitter for iPhone  24728   8975   \n",
       "196  868712234154770432 2017-05-28 06:15:11  Twitter for iPhone   3637    581   \n",
       "197  866829954985508864 2017-05-23 01:35:40  Twitter Web Client   5984   2486   \n",
       "198  866721260985700352 2017-05-22 18:23:46  Twitter Web Client   3308    686   \n",
       "199  865392222887268353 2017-05-19 02:22:38  Twitter for iPhone      0    340   \n",
       "\n",
       "     SA  \n",
       "0     0  \n",
       "1     1  \n",
       "2     0  \n",
       "3     1  \n",
       "4     1  \n",
       "5     1  \n",
       "6     1  \n",
       "7     0  \n",
       "8     1  \n",
       "9     1  \n",
       "10    1  \n",
       "11    0  \n",
       "12    0  \n",
       "13   -1  \n",
       "14    1  \n",
       "15    1  \n",
       "16    0  \n",
       "17    0  \n",
       "18    0  \n",
       "19    0  \n",
       "20    0  \n",
       "21    1  \n",
       "22    0  \n",
       "23    0  \n",
       "24    1  \n",
       "25    0  \n",
       "26    0  \n",
       "27    1  \n",
       "28    0  \n",
       "29    0  \n",
       "..   ..  \n",
       "170   1  \n",
       "171   0  \n",
       "172  -1  \n",
       "173   0  \n",
       "174   0  \n",
       "175   0  \n",
       "176   0  \n",
       "177   0  \n",
       "178   0  \n",
       "179   1  \n",
       "180   0  \n",
       "181   1  \n",
       "182   0  \n",
       "183   1  \n",
       "184   0  \n",
       "185   0  \n",
       "186   0  \n",
       "187   0  \n",
       "188   0  \n",
       "189   1  \n",
       "190   1  \n",
       "191   1  \n",
       "192   0  \n",
       "193   0  \n",
       "194  -1  \n",
       "195   0  \n",
       "196   0  \n",
       "197   1  \n",
       "198  -1  \n",
       "199   0  \n",
       "\n",
       "[200 rows x 8 columns]>"
      ]
     },
     "metadata": {},
     "output_type": "display_data"
    }
   ],
   "source": [
    "# We create a column with the result of the analysis:\n",
    "data_kb['SA'] = np.array([ analize_sentiment(tweet) for tweet in data_kb['Tweets'] ])\n",
    "\n",
    "# We display the updated dataframe with the new column:\n",
    "display(data_kb.head)"
   ]
  },
  {
   "cell_type": "code",
   "execution_count": 40,
   "metadata": {
    "collapsed": false
   },
   "outputs": [],
   "source": [
    "# We construct lists with classified tweets:\n",
    "\n",
    "pos_tweets_rf = [ tweet for index, tweet in enumerate(data_rf['Tweets']) if data_rf['SA'][index] > 0]\n",
    "neu_tweets_rf = [ tweet for index, tweet in enumerate(data_rf['Tweets']) if data_rf['SA'][index] == 0]\n",
    "neg_tweets_rf = [ tweet for index, tweet in enumerate(data_rf['Tweets']) if data_rf['SA'][index] < 0]\n",
    "\n"
   ]
  },
  {
   "cell_type": "code",
   "execution_count": 41,
   "metadata": {
    "collapsed": false
   },
   "outputs": [
    {
     "name": "stdout",
     "output_type": "stream",
     "text": [
      "Percentage of positive Federer's tweets: 38.69346733668342%\n",
      "Percentage of neutral Federer's tweets: 59.79899497487437%\n",
      "Percentage de negative Federer's tweets: 1.5075376884422111%\n"
     ]
    }
   ],
   "source": [
    "# We print percentages:\n",
    "\n",
    "print(\"Percentage of positive Federer's tweets: {}%\".format(len(pos_tweets_rf)*100/len(data_rf['Tweets'])))\n",
    "print(\"Percentage of neutral Federer's tweets: {}%\".format(len(neu_tweets_rf)*100/len(data_rf['Tweets'])))\n",
    "print(\"Percentage de negative Federer's tweets: {}%\".format(len(neg_tweets_rf)*100/len(data_rf['Tweets'])))"
   ]
  },
  {
   "cell_type": "markdown",
   "metadata": {},
   "source": [
    "Negative tweets: \"Unfortunately, I won't be playing  @rolandgarros this year. I'll miss my fans in France, but appreciate your support.\" https://twitter.com/rogerfederer/status/864186332419047427\n",
    "\n",
    "\"#Fbf to Match for Africa 4 Seattle last month! What an unbelievable event- thanks to everyone who made it possible!\" https://twitter.com/rogerfederer/status/868207296630992898"
   ]
  },
  {
   "cell_type": "code",
   "execution_count": 42,
   "metadata": {
    "collapsed": false
   },
   "outputs": [
    {
     "name": "stdout",
     "output_type": "stream",
     "text": [
      "Percentage of positive Sogan's tweets: 69.5%\n",
      "Percentage of neutral Sogan's tweets: 28.0%\n",
      "Percentage de negative Sogan's tweets: 2.5%\n"
     ]
    }
   ],
   "source": [
    "# We construct lists with classified tweets:\n",
    "\n",
    "pos_tweets_ps = [ tweet for index, tweet in enumerate(data_ps['Tweets']) if data_ps['SA'][index] > 0]\n",
    "neu_tweets_ps = [ tweet for index, tweet in enumerate(data_ps['Tweets']) if data_ps['SA'][index] == 0]\n",
    "neg_tweets_ps = [ tweet for index, tweet in enumerate(data_ps['Tweets']) if data_ps['SA'][index] < 0]\n",
    "\n",
    "# We print percentages:\n",
    "\n",
    "print(\"Percentage of positive Sogan's tweets: {}%\".format(len(pos_tweets_ps)*100/len(data_ps['Tweets'])))\n",
    "print(\"Percentage of neutral Sogan's tweets: {}%\".format(len(neu_tweets_ps)*100/len(data_ps['Tweets'])))\n",
    "print(\"Percentage de negative Sogan's tweets: {}%\".format(len(neg_tweets_ps)*100/len(data_ps['Tweets'])))\n"
   ]
  },
  {
   "cell_type": "markdown",
   "metadata": {},
   "source": [
    "Negative tweets: \"The road to success is long and hard but landscapes like this one make it worth trying... Training hard for the Classics in Sierra Nevada, Spain\" https://twitter.com/petosagan/status/964926468022206465\n",
    "\n",
    "\"It was crazy hot at @TourDownUnder. Stage 4 was hard, 128km in 44 degrees heat. I used to cramp in these conditions. Thanks @OsmoNutrition for keeping me hydrated and cramp-free since 2013. \" https://twitter.com/petosagan/status/959468686565363714"
   ]
  },
  {
   "cell_type": "code",
   "execution_count": 43,
   "metadata": {
    "collapsed": false
   },
   "outputs": [
    {
     "name": "stdout",
     "output_type": "stream",
     "text": [
      "Percentage of positive Kobe's tweets: 34.5%\n",
      "Percentage of neutral Kobe's tweets: 59.0%\n",
      "Percentage de negative Kobe's tweets: 6.5%\n"
     ]
    }
   ],
   "source": [
    "# We construct lists with classified tweets:\n",
    "\n",
    "pos_tweets_kb = [ tweet for index, tweet in enumerate(data_kb['Tweets']) if data_kb['SA'][index] > 0]\n",
    "neu_tweets_kb = [ tweet for index, tweet in enumerate(data_kb['Tweets']) if data_kb['SA'][index] == 0]\n",
    "neg_tweets_kb = [ tweet for index, tweet in enumerate(data_kb['Tweets']) if data_kb['SA'][index] < 0]\n",
    "\n",
    "# We print percentages:\n",
    "\n",
    "print(\"Percentage of positive Kobe's tweets: {}%\".format(len(pos_tweets_kb)*100/len(data_kb['Tweets'])))\n",
    "print(\"Percentage of neutral Kobe's tweets: {}%\".format(len(neu_tweets_kb)*100/len(data_kb['Tweets'])))\n",
    "print(\"Percentage de negative Kobe's tweets: {}%\".format(len(neg_tweets_kb)*100/len(data_kb['Tweets'])))\n",
    "\n"
   ]
  },
  {
   "cell_type": "markdown",
   "metadata": {},
   "source": [
    "Negative tweets: \"Spent this morning chatting w/ legend @kobebryant. Got his thoughts on his relationship w/ Bill Russell, the evolution of black athletes’ social consciousness and if he would have demonstrated during the national anthem had he still been playing. Tomorrow on ESPN.\" https://twitter.com/jemelehill/status/960998295299485696\n",
    "\n"
   ]
  },
  {
   "cell_type": "markdown",
   "metadata": {},
   "source": [
    "# Here I want to dig deeper \n",
    "\n",
    "First I choose a tweet from Federer labeled as \"nagetive\""
   ]
  },
  {
   "cell_type": "code",
   "execution_count": 109,
   "metadata": {
    "collapsed": true
   },
   "outputs": [],
   "source": [
    "test_tweet = \"Unfortunately, I won't be playing rolandgarros this year. I'll miss my fans in France, but appreciate your support.\""
   ]
  },
  {
   "cell_type": "code",
   "execution_count": 110,
   "metadata": {
    "collapsed": false
   },
   "outputs": [
    {
     "name": "stdout",
     "output_type": "stream",
     "text": [
      "-1\n"
     ]
    }
   ],
   "source": [
    "w=analize_sentiment(test_tweet)\n",
    "print(w)"
   ]
  },
  {
   "cell_type": "markdown",
   "metadata": {},
   "source": [
    "Here I delete the word \"Unvortunately\" and let's see what happens."
   ]
  },
  {
   "cell_type": "code",
   "execution_count": 111,
   "metadata": {
    "collapsed": false
   },
   "outputs": [
    {
     "name": "stdout",
     "output_type": "stream",
     "text": [
      "0\n"
     ]
    }
   ],
   "source": [
    "test_tweet = \"I won't be playing rolandgarros this year. I'll miss my fans in France, but appreciate your support.\"\n",
    "\n",
    "w=analize_sentiment(test_tweet)\n",
    "print(w)"
   ]
  },
  {
   "cell_type": "markdown",
   "metadata": {},
   "source": [
    "The sentiment has changed from \"Negative\" to \"Neutral\""
   ]
  },
  {
   "cell_type": "code",
   "execution_count": 112,
   "metadata": {
    "collapsed": false
   },
   "outputs": [
    {
     "name": "stdout",
     "output_type": "stream",
     "text": [
      "-1\n"
     ]
    }
   ],
   "source": [
    "test_tweet = \"#Fbf to Match for Africa 4 Seattle last month! What an unbelievable event- thanks to everyone who made it possible!\"\n",
    "\n",
    "w=analize_sentiment(test_tweet)\n",
    "print(w)"
   ]
  },
  {
   "cell_type": "markdown",
   "metadata": {},
   "source": [
    "Similiarly, this is another tweet labeled as \"Negative\""
   ]
  },
  {
   "cell_type": "code",
   "execution_count": 113,
   "metadata": {
    "collapsed": false
   },
   "outputs": [
    {
     "name": "stdout",
     "output_type": "stream",
     "text": [
      "1\n"
     ]
    }
   ],
   "source": [
    "test_tweet = \"#Fbf to Match for Africa 4 Seattle last month! What an  event- thanks to everyone who made it possible!\"\n",
    "\n",
    "w=analize_sentiment(test_tweet)\n",
    "print(w)"
   ]
  },
  {
   "cell_type": "markdown",
   "metadata": {},
   "source": [
    "After removing word \"unbelievable\", the sentiment has changed from \"Negative\" to \"Positive\"."
   ]
  },
  {
   "cell_type": "code",
   "execution_count": null,
   "metadata": {
    "collapsed": true
   },
   "outputs": [],
   "source": []
  }
 ],
 "metadata": {
  "kernelspec": {
   "display_name": "Python 3",
   "language": "python",
   "name": "python3"
  },
  "language_info": {
   "codemirror_mode": {
    "name": "ipython",
    "version": 3
   },
   "file_extension": ".py",
   "mimetype": "text/x-python",
   "name": "python",
   "nbconvert_exporter": "python",
   "pygments_lexer": "ipython3",
   "version": "3.6.0"
  }
 },
 "nbformat": 4,
 "nbformat_minor": 2
}
