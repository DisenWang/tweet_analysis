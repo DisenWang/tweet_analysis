{
 "cells": [
  {
   "cell_type": "code",
   "execution_count": 1,
   "metadata": {
    "collapsed": false
   },
   "outputs": [],
   "source": [
    "# General:\n",
    "import tweepy           # To consume Twitter's API\n",
    "import pandas as pd     # To handle data\n",
    "import numpy as np      # For number computing\n",
    "\n",
    "# For plotting and visualization:\n",
    "from IPython.display import display\n",
    "import matplotlib.pyplot as plt\n",
    "import seaborn as sns\n",
    "%matplotlib inline"
   ]
  },
  {
   "cell_type": "code",
   "execution_count": 2,
   "metadata": {
    "collapsed": true
   },
   "outputs": [],
   "source": [
    "# We import our access keys:\n",
    "from credentials import *    # This will allow us to use the keys as variables\n",
    "\n",
    "# API's setup:\n",
    "def twitter_config():\n",
    "    \"\"\"\n",
    "    Utility function to setup the Twitter's API\n",
    "    with our access keys provided.\n",
    "    \"\"\"\n",
    "    # Authentication and access using keys:\n",
    "    auth = tweepy.OAuthHandler(CONSUMER_KEY, CONSUMER_SECRET)\n",
    "    auth.set_access_token(ACCESS_TOKEN, ACCESS_SECRET)\n",
    "\n",
    "    # Return API with authentication:\n",
    "    api = tweepy.API(auth)\n",
    "    return api"
   ]
  },
  {
   "cell_type": "code",
   "execution_count": 6,
   "metadata": {
    "collapsed": false
   },
   "outputs": [
    {
     "name": "stdout",
     "output_type": "stream",
     "text": [
      "Tweets obtenidos: 200.\n",
      "\n",
      "Los primeros 5 tweets:\n",
      "\n",
      "It's been a long road, and sometimes windy, but feels surreal to be back at the top. I'm just happy to be healthy a… https://t.co/g0q4mIKI6f\n",
      "\n",
      "Apparently I'm the oldest tennis player with a #1️⃣ ranking. Somebody might have mentioned that to me already but I… https://t.co/sZ3NFoddzk\n",
      "\n",
      "🇨🇭🥇 woooooow @dariocologna https://t.co/Nr79FCQ9lg\n",
      "\n",
      "🎿🇨🇭🥈 @BeatFeuz yeaaaahhhhh https://t.co/53VlXTogYt\n",
      "\n",
      "🎿🇨🇭🥈💪 Congratulations Wendy https://t.co/MCiMrmx74Q\n",
      "\n"
     ]
    }
   ],
   "source": [
    "# Creamos un objeto extractor:\n",
    "extractor = twitter_config()\n",
    "\n",
    "# Creamos una lista de tweets:\n",
    "tweets = extractor.user_timeline(screen_name=\"rogerfederer\", count=200)\n",
    "print(\"Tweets obtenidos: {}.\\n\".format(len(tweets)))\n",
    "\n",
    "# Imprimimos los primeros 5 tweets:\n",
    "print(\"Los primeros 5 tweets:\\n\")\n",
    "for tweet in tweets[:5]:\n",
    "    print(tweet.text)\n",
    "    print()"
   ]
  },
  {
   "cell_type": "code",
   "execution_count": 7,
   "metadata": {
    "collapsed": false
   },
   "outputs": [
    {
     "data": {
      "text/html": [
       "<div>\n",
       "<style scoped>\n",
       "    .dataframe tbody tr th:only-of-type {\n",
       "        vertical-align: middle;\n",
       "    }\n",
       "\n",
       "    .dataframe tbody tr th {\n",
       "        vertical-align: top;\n",
       "    }\n",
       "\n",
       "    .dataframe thead th {\n",
       "        text-align: right;\n",
       "    }\n",
       "</style>\n",
       "<table border=\"1\" class=\"dataframe\">\n",
       "  <thead>\n",
       "    <tr style=\"text-align: right;\">\n",
       "      <th></th>\n",
       "      <th>Tweets</th>\n",
       "    </tr>\n",
       "  </thead>\n",
       "  <tbody>\n",
       "    <tr>\n",
       "      <th>0</th>\n",
       "      <td>It's been a long road, and sometimes windy, bu...</td>\n",
       "    </tr>\n",
       "    <tr>\n",
       "      <th>1</th>\n",
       "      <td>Apparently I'm the oldest tennis player with a...</td>\n",
       "    </tr>\n",
       "    <tr>\n",
       "      <th>2</th>\n",
       "      <td>🇨🇭🥇 woooooow @dariocologna https://t.co/Nr79FC...</td>\n",
       "    </tr>\n",
       "    <tr>\n",
       "      <th>3</th>\n",
       "      <td>🎿🇨🇭🥈 @BeatFeuz yeaaaahhhhh https://t.co/53VlXT...</td>\n",
       "    </tr>\n",
       "    <tr>\n",
       "      <th>4</th>\n",
       "      <td>🎿🇨🇭🥈💪 Congratulations Wendy https://t.co/MCiMr...</td>\n",
       "    </tr>\n",
       "    <tr>\n",
       "      <th>5</th>\n",
       "      <td>🎿🇨🇭🥉Super Beat https://t.co/rtXBmE1OKO</td>\n",
       "    </tr>\n",
       "    <tr>\n",
       "      <th>6</th>\n",
       "      <td>🥌  🇨🇭 🥈 Gratulation https://t.co/FXszdzAJ2E</td>\n",
       "    </tr>\n",
       "    <tr>\n",
       "      <th>7</th>\n",
       "      <td>Thank you to all the amazing fans who greeted ...</td>\n",
       "    </tr>\n",
       "    <tr>\n",
       "      <th>8</th>\n",
       "      <td>Thank you Australia for the support, the passi...</td>\n",
       "    </tr>\n",
       "    <tr>\n",
       "      <th>9</th>\n",
       "      <td>Norman looks even more shiny in the daytime 🌞 ...</td>\n",
       "    </tr>\n",
       "  </tbody>\n",
       "</table>\n",
       "</div>"
      ],
      "text/plain": [
       "                                              Tweets\n",
       "0  It's been a long road, and sometimes windy, bu...\n",
       "1  Apparently I'm the oldest tennis player with a...\n",
       "2  🇨🇭🥇 woooooow @dariocologna https://t.co/Nr79FC...\n",
       "3  🎿🇨🇭🥈 @BeatFeuz yeaaaahhhhh https://t.co/53VlXT...\n",
       "4  🎿🇨🇭🥈💪 Congratulations Wendy https://t.co/MCiMr...\n",
       "5             🎿🇨🇭🥉Super Beat https://t.co/rtXBmE1OKO\n",
       "6        🥌  🇨🇭 🥈 Gratulation https://t.co/FXszdzAJ2E\n",
       "7  Thank you to all the amazing fans who greeted ...\n",
       "8  Thank you Australia for the support, the passi...\n",
       "9  Norman looks even more shiny in the daytime 🌞 ..."
      ]
     },
     "metadata": {},
     "output_type": "display_data"
    }
   ],
   "source": [
    "# We create a pandas dataframe as follows:\n",
    "data = pd.DataFrame(data=[tweet.text for tweet in tweets], columns=['Tweets'])\n",
    "\n",
    "# We display the first 10 elements of the dataframe:\n",
    "display(data.head(10))"
   ]
  },
  {
   "cell_type": "code",
   "execution_count": 8,
   "metadata": {
    "collapsed": false
   },
   "outputs": [
    {
     "name": "stdout",
     "output_type": "stream",
     "text": [
      "['__class__', '__delattr__', '__dict__', '__dir__', '__doc__', '__eq__', '__format__', '__ge__', '__getattribute__', '__getstate__', '__gt__', '__hash__', '__init__', '__init_subclass__', '__le__', '__lt__', '__module__', '__ne__', '__new__', '__reduce__', '__reduce_ex__', '__repr__', '__setattr__', '__sizeof__', '__str__', '__subclasshook__', '__weakref__', '_api', '_json', 'author', 'contributors', 'coordinates', 'created_at', 'destroy', 'entities', 'favorite', 'favorite_count', 'favorited', 'geo', 'id', 'id_str', 'in_reply_to_screen_name', 'in_reply_to_status_id', 'in_reply_to_status_id_str', 'in_reply_to_user_id', 'in_reply_to_user_id_str', 'is_quote_status', 'lang', 'parse', 'parse_list', 'place', 'retweet', 'retweet_count', 'retweeted', 'retweets', 'source', 'source_url', 'text', 'truncated', 'user']\n"
     ]
    }
   ],
   "source": [
    "# Internal methods of a single tweet object:\n",
    "print(dir(tweets[0]))"
   ]
  },
  {
   "cell_type": "code",
   "execution_count": 10,
   "metadata": {
    "collapsed": false
   },
   "outputs": [
    {
     "name": "stdout",
     "output_type": "stream",
     "text": [
      "964664653107249153\n",
      "2018-02-17 00:55:50\n",
      "Twitter for iPhone\n",
      "15416\n",
      "3434\n",
      "None\n",
      "None\n",
      "{'hashtags': [], 'symbols': [], 'user_mentions': [], 'urls': [{'url': 'https://t.co/g0q4mIKI6f', 'expanded_url': 'https://twitter.com/i/web/status/964664653107249153', 'display_url': 'twitter.com/i/web/status/9…', 'indices': [117, 140]}]}\n"
     ]
    }
   ],
   "source": [
    "# We print info from the first tweet:\n",
    "print(tweets[0].id)\n",
    "print(tweets[0].created_at)\n",
    "print(tweets[0].source)\n",
    "print(tweets[0].favorite_count)\n",
    "print(tweets[0].retweet_count)\n",
    "print(tweets[0].geo)\n",
    "print(tweets[0].coordinates)\n",
    "print(tweets[0].entities)"
   ]
  },
  {
   "cell_type": "code",
   "execution_count": 13,
   "metadata": {
    "collapsed": false
   },
   "outputs": [],
   "source": [
    "# We add relevant data:\n",
    "data['len']  = np.array([len(tweet.text) for tweet in tweets])\n",
    "data['ID']   = np.array([tweet.id for tweet in tweets])\n",
    "data['Date'] = np.array([tweet.created_at for tweet in tweets])\n",
    "data['Source'] = np.array([tweet.source for tweet in tweets])\n",
    "data['Likes']  = np.array([tweet.favorite_count for tweet in tweets])\n",
    "data['RTs']    = np.array([tweet.retweet_count for tweet in tweets])"
   ]
  },
  {
   "cell_type": "code",
   "execution_count": 14,
   "metadata": {
    "collapsed": false
   },
   "outputs": [
    {
     "data": {
      "text/html": [
       "<div>\n",
       "<style scoped>\n",
       "    .dataframe tbody tr th:only-of-type {\n",
       "        vertical-align: middle;\n",
       "    }\n",
       "\n",
       "    .dataframe tbody tr th {\n",
       "        vertical-align: top;\n",
       "    }\n",
       "\n",
       "    .dataframe thead th {\n",
       "        text-align: right;\n",
       "    }\n",
       "</style>\n",
       "<table border=\"1\" class=\"dataframe\">\n",
       "  <thead>\n",
       "    <tr style=\"text-align: right;\">\n",
       "      <th></th>\n",
       "      <th>Tweets</th>\n",
       "      <th>len</th>\n",
       "      <th>ID</th>\n",
       "      <th>Date</th>\n",
       "      <th>Source</th>\n",
       "      <th>Likes</th>\n",
       "      <th>RTs</th>\n",
       "    </tr>\n",
       "  </thead>\n",
       "  <tbody>\n",
       "    <tr>\n",
       "      <th>0</th>\n",
       "      <td>It's been a long road, and sometimes windy, bu...</td>\n",
       "      <td>140</td>\n",
       "      <td>964664653107249153</td>\n",
       "      <td>2018-02-17 00:55:50</td>\n",
       "      <td>Twitter for iPhone</td>\n",
       "      <td>15416</td>\n",
       "      <td>3434</td>\n",
       "    </tr>\n",
       "    <tr>\n",
       "      <th>1</th>\n",
       "      <td>Apparently I'm the oldest tennis player with a...</td>\n",
       "      <td>140</td>\n",
       "      <td>964645219760201728</td>\n",
       "      <td>2018-02-16 23:38:37</td>\n",
       "      <td>Twitter for iPhone</td>\n",
       "      <td>66745</td>\n",
       "      <td>19937</td>\n",
       "    </tr>\n",
       "    <tr>\n",
       "      <th>2</th>\n",
       "      <td>🇨🇭🥇 woooooow @dariocologna https://t.co/Nr79FC...</td>\n",
       "      <td>50</td>\n",
       "      <td>964458889784815617</td>\n",
       "      <td>2018-02-16 11:18:12</td>\n",
       "      <td>Twitter for iPhone</td>\n",
       "      <td>6590</td>\n",
       "      <td>634</td>\n",
       "    </tr>\n",
       "    <tr>\n",
       "      <th>3</th>\n",
       "      <td>🎿🇨🇭🥈 @BeatFeuz yeaaaahhhhh https://t.co/53VlXT...</td>\n",
       "      <td>50</td>\n",
       "      <td>964458448065884160</td>\n",
       "      <td>2018-02-16 11:16:27</td>\n",
       "      <td>Twitter for iPhone</td>\n",
       "      <td>4044</td>\n",
       "      <td>416</td>\n",
       "    </tr>\n",
       "    <tr>\n",
       "      <th>4</th>\n",
       "      <td>🎿🇨🇭🥈💪 Congratulations Wendy https://t.co/MCiMr...</td>\n",
       "      <td>51</td>\n",
       "      <td>964458008695726080</td>\n",
       "      <td>2018-02-16 11:14:42</td>\n",
       "      <td>Twitter for iPhone</td>\n",
       "      <td>8796</td>\n",
       "      <td>633</td>\n",
       "    </tr>\n",
       "    <tr>\n",
       "      <th>5</th>\n",
       "      <td>🎿🇨🇭🥉Super Beat https://t.co/rtXBmE1OKO</td>\n",
       "      <td>38</td>\n",
       "      <td>964048306916810752</td>\n",
       "      <td>2018-02-15 08:06:42</td>\n",
       "      <td>Tweetbot for iΟS</td>\n",
       "      <td>7032</td>\n",
       "      <td>577</td>\n",
       "    </tr>\n",
       "    <tr>\n",
       "      <th>6</th>\n",
       "      <td>🥌  🇨🇭 🥈 Gratulation https://t.co/FXszdzAJ2E</td>\n",
       "      <td>43</td>\n",
       "      <td>963413624344727554</td>\n",
       "      <td>2018-02-13 14:04:42</td>\n",
       "      <td>Tweetbot for iΟS</td>\n",
       "      <td>8812</td>\n",
       "      <td>803</td>\n",
       "    </tr>\n",
       "    <tr>\n",
       "      <th>7</th>\n",
       "      <td>Thank you to all the amazing fans who greeted ...</td>\n",
       "      <td>95</td>\n",
       "      <td>958943843415597056</td>\n",
       "      <td>2018-02-01 06:03:23</td>\n",
       "      <td>Twitter for iPhone</td>\n",
       "      <td>54956</td>\n",
       "      <td>7128</td>\n",
       "    </tr>\n",
       "    <tr>\n",
       "      <th>8</th>\n",
       "      <td>Thank you Australia for the support, the passi...</td>\n",
       "      <td>134</td>\n",
       "      <td>958941242334748672</td>\n",
       "      <td>2018-02-01 05:53:03</td>\n",
       "      <td>Twitter for iPhone</td>\n",
       "      <td>61120</td>\n",
       "      <td>8543</td>\n",
       "    </tr>\n",
       "    <tr>\n",
       "      <th>9</th>\n",
       "      <td>Norman looks even more shiny in the daytime 🌞 ...</td>\n",
       "      <td>75</td>\n",
       "      <td>957784623727050753</td>\n",
       "      <td>2018-01-29 01:17:03</td>\n",
       "      <td>Twitter for iPhone</td>\n",
       "      <td>56883</td>\n",
       "      <td>7314</td>\n",
       "    </tr>\n",
       "  </tbody>\n",
       "</table>\n",
       "</div>"
      ],
      "text/plain": [
       "                                              Tweets  len                  ID  \\\n",
       "0  It's been a long road, and sometimes windy, bu...  140  964664653107249153   \n",
       "1  Apparently I'm the oldest tennis player with a...  140  964645219760201728   \n",
       "2  🇨🇭🥇 woooooow @dariocologna https://t.co/Nr79FC...   50  964458889784815617   \n",
       "3  🎿🇨🇭🥈 @BeatFeuz yeaaaahhhhh https://t.co/53VlXT...   50  964458448065884160   \n",
       "4  🎿🇨🇭🥈💪 Congratulations Wendy https://t.co/MCiMr...   51  964458008695726080   \n",
       "5             🎿🇨🇭🥉Super Beat https://t.co/rtXBmE1OKO   38  964048306916810752   \n",
       "6        🥌  🇨🇭 🥈 Gratulation https://t.co/FXszdzAJ2E   43  963413624344727554   \n",
       "7  Thank you to all the amazing fans who greeted ...   95  958943843415597056   \n",
       "8  Thank you Australia for the support, the passi...  134  958941242334748672   \n",
       "9  Norman looks even more shiny in the daytime 🌞 ...   75  957784623727050753   \n",
       "\n",
       "                 Date              Source  Likes    RTs  \n",
       "0 2018-02-17 00:55:50  Twitter for iPhone  15416   3434  \n",
       "1 2018-02-16 23:38:37  Twitter for iPhone  66745  19937  \n",
       "2 2018-02-16 11:18:12  Twitter for iPhone   6590    634  \n",
       "3 2018-02-16 11:16:27  Twitter for iPhone   4044    416  \n",
       "4 2018-02-16 11:14:42  Twitter for iPhone   8796    633  \n",
       "5 2018-02-15 08:06:42    Tweetbot for iΟS   7032    577  \n",
       "6 2018-02-13 14:04:42    Tweetbot for iΟS   8812    803  \n",
       "7 2018-02-01 06:03:23  Twitter for iPhone  54956   7128  \n",
       "8 2018-02-01 05:53:03  Twitter for iPhone  61120   8543  \n",
       "9 2018-01-29 01:17:03  Twitter for iPhone  56883   7314  "
      ]
     },
     "metadata": {},
     "output_type": "display_data"
    }
   ],
   "source": [
    "# Display of first 10 elements from dataframe:\n",
    "display(data.head(10))"
   ]
  },
  {
   "cell_type": "code",
   "execution_count": 15,
   "metadata": {
    "collapsed": false
   },
   "outputs": [
    {
     "name": "stdout",
     "output_type": "stream",
     "text": [
      "The lenght's average in tweets: 74.04\n"
     ]
    }
   ],
   "source": [
    "# We extract the mean of lenghts:\n",
    "mean = np.mean(data['len'])\n",
    "\n",
    "print(\"The lenght's average in tweets: {}\".format(mean))"
   ]
  },
  {
   "cell_type": "code",
   "execution_count": 16,
   "metadata": {
    "collapsed": false
   },
   "outputs": [
    {
     "name": "stdout",
     "output_type": "stream",
     "text": [
      "The tweet with more likes is: \n",
      "🏆20. ❤️ https://t.co/WqUiSo3fd5\n",
      "Number of likes: 508264\n",
      "31 characters.\n",
      "\n",
      "The tweet with more retweets is: \n",
      "#19 tastes great https://t.co/3Hv3lM5Rk9\n",
      "Number of retweets: 145382\n",
      "40 characters.\n",
      "\n"
     ]
    }
   ],
   "source": [
    "# We extract the tweet with more FAVs and more RTs:\n",
    "\n",
    "fav_max = np.max(data['Likes'])\n",
    "rt_max  = np.max(data['RTs'])\n",
    "\n",
    "fav = data[data.Likes == fav_max].index[0]\n",
    "rt  = data[data.RTs == rt_max].index[0]\n",
    "\n",
    "# Max FAVs:\n",
    "print(\"The tweet with more likes is: \\n{}\".format(data['Tweets'][fav]))\n",
    "print(\"Number of likes: {}\".format(fav_max))\n",
    "print(\"{} characters.\\n\".format(data['len'][fav]))\n",
    "\n",
    "# Max RTs:\n",
    "print(\"The tweet with more retweets is: \\n{}\".format(data['Tweets'][rt]))\n",
    "print(\"Number of retweets: {}\".format(rt_max))\n",
    "print(\"{} characters.\\n\".format(data['len'][rt]))"
   ]
  },
  {
   "cell_type": "code",
   "execution_count": 17,
   "metadata": {
    "collapsed": true
   },
   "outputs": [],
   "source": [
    "# We create time series for data:\n",
    "\n",
    "tlen = pd.Series(data=data['len'].values, index=data['Date'])\n",
    "tfav = pd.Series(data=data['Likes'].values, index=data['Date'])\n",
    "tret = pd.Series(data=data['RTs'].values, index=data['Date'])\n"
   ]
  },
  {
   "cell_type": "code",
   "execution_count": 18,
   "metadata": {
    "collapsed": false
   },
   "outputs": [
    {
     "data": {
      "image/png": "[encoded data removed]",
      "text/plain": [
       "<matplotlib.figure.Figure at 0x11571b320>"
      ]
     },
     "metadata": {},
     "output_type": "display_data"
    }
   ],
   "source": [
    "# Lenghts along time:\n",
    "tlen.plot(figsize=(16,4), color='r');"
   ]
  },
  {
   "cell_type": "code",
   "execution_count": 19,
   "metadata": {
    "collapsed": false
   },
   "outputs": [
    {
     "data": {
      "image/png": "[encoded data removed]",
      "text/plain": [
       "<matplotlib.figure.Figure at 0x116495ac8>"
      ]
     },
     "metadata": {},
     "output_type": "display_data"
    }
   ],
   "source": [
    "# Likes vs retweets visualization:\n",
    "tfav.plot(figsize=(16,4), label=\"Likes\", legend=True)\n",
    "tret.plot(figsize=(16,4), label=\"Retweets\", legend=True);"
   ]
  },
  {
   "cell_type": "code",
   "execution_count": 20,
   "metadata": {
    "collapsed": false
   },
   "outputs": [
    {
     "name": "stdout",
     "output_type": "stream",
     "text": [
      "Creation of content sources:\n",
      "* Twitter for iPhone\n",
      "* Tweetbot for iΟS\n",
      "* Media Studio\n",
      "* Twitter Web Client\n",
      "* Twitter for  iPhone\n",
      "* TweetDeck\n"
     ]
    }
   ],
   "source": [
    "# We obtain all possible sources:\n",
    "sources = []\n",
    "for source in data['Source']:\n",
    "    if source not in sources:\n",
    "        sources.append(source)\n",
    "\n",
    "# We print sources list:\n",
    "print(\"Creation of content sources:\")\n",
    "for source in sources:\n",
    "    print(\"* {}\".format(source))"
   ]
  },
  {
   "cell_type": "code",
   "execution_count": 22,
   "metadata": {
    "collapsed": false
   },
   "outputs": [
    {
     "data": {
      "image/png": "[encoded data removed]",
      "text/plain": [
       "<matplotlib.figure.Figure at 0x1164d5a90>"
      ]
     },
     "metadata": {},
     "output_type": "display_data"
    }
   ],
   "source": [
    "# We create a numpy vector mapped to labels:\n",
    "percent = np.zeros(len(sources))\n",
    "\n",
    "for source in data['Source']:\n",
    "    for index in range(len(sources)):\n",
    "        if source == sources[index]:\n",
    "            percent[index] += 1\n",
    "            pass\n",
    "\n",
    "percent /= 100\n",
    "\n",
    "# Pie chart:\n",
    "pie_chart = pd.Series(percent, index=sources, name='Sources')\n",
    "pie_chart.plot.pie(fontsize=11, autopct='%.2f', figsize=(6, 6));"
   ]
  },
  {
   "cell_type": "code",
   "execution_count": 24,
   "metadata": {
    "collapsed": false
   },
   "outputs": [],
   "source": [
    "from textblob import TextBlob\n",
    "import re\n",
    "\n",
    "def clean_tweet(tweet):\n",
    "    '''\n",
    "    Utility function to clean the text in a tweet by removing \n",
    "    links and special characters using regex.\n",
    "    '''\n",
    "    return ' '.join(re.sub(\"(@[A-Za-z0-9]+)|([^0-9A-Za-z \\t])|(\\w+:\\/\\/\\S+)\", \" \", tweet).split())\n",
    "\n",
    "def analize_sentiment(tweet):\n",
    "    '''\n",
    "    Utility function to classify the polarity of a tweet\n",
    "    using textblob.\n",
    "    '''\n",
    "    analysis = TextBlob(clean_tweet(tweet))\n",
    "    if analysis.sentiment.polarity > 0:\n",
    "        return 1\n",
    "    elif analysis.sentiment.polarity == 0:\n",
    "        return 0\n",
    "    else:\n",
    "        return -1"
   ]
  },
  {
   "cell_type": "code",
   "execution_count": 25,
   "metadata": {
    "collapsed": false
   },
   "outputs": [
    {
     "data": {
      "text/html": [
       "<div>\n",
       "<style scoped>\n",
       "    .dataframe tbody tr th:only-of-type {\n",
       "        vertical-align: middle;\n",
       "    }\n",
       "\n",
       "    .dataframe tbody tr th {\n",
       "        vertical-align: top;\n",
       "    }\n",
       "\n",
       "    .dataframe thead th {\n",
       "        text-align: right;\n",
       "    }\n",
       "</style>\n",
       "<table border=\"1\" class=\"dataframe\">\n",
       "  <thead>\n",
       "    <tr style=\"text-align: right;\">\n",
       "      <th></th>\n",
       "      <th>Tweets</th>\n",
       "      <th>len</th>\n",
       "      <th>ID</th>\n",
       "      <th>Date</th>\n",
       "      <th>Source</th>\n",
       "      <th>Likes</th>\n",
       "      <th>RTs</th>\n",
       "      <th>SA</th>\n",
       "    </tr>\n",
       "  </thead>\n",
       "  <tbody>\n",
       "    <tr>\n",
       "      <th>0</th>\n",
       "      <td>It's been a long road, and sometimes windy, bu...</td>\n",
       "      <td>140</td>\n",
       "      <td>964664653107249153</td>\n",
       "      <td>2018-02-17 00:55:50</td>\n",
       "      <td>Twitter for iPhone</td>\n",
       "      <td>15416</td>\n",
       "      <td>3434</td>\n",
       "      <td>1</td>\n",
       "    </tr>\n",
       "    <tr>\n",
       "      <th>1</th>\n",
       "      <td>Apparently I'm the oldest tennis player with a...</td>\n",
       "      <td>140</td>\n",
       "      <td>964645219760201728</td>\n",
       "      <td>2018-02-16 23:38:37</td>\n",
       "      <td>Twitter for iPhone</td>\n",
       "      <td>66745</td>\n",
       "      <td>19937</td>\n",
       "      <td>1</td>\n",
       "    </tr>\n",
       "    <tr>\n",
       "      <th>2</th>\n",
       "      <td>🇨🇭🥇 woooooow @dariocologna https://t.co/Nr79FC...</td>\n",
       "      <td>50</td>\n",
       "      <td>964458889784815617</td>\n",
       "      <td>2018-02-16 11:18:12</td>\n",
       "      <td>Twitter for iPhone</td>\n",
       "      <td>6590</td>\n",
       "      <td>634</td>\n",
       "      <td>0</td>\n",
       "    </tr>\n",
       "    <tr>\n",
       "      <th>3</th>\n",
       "      <td>🎿🇨🇭🥈 @BeatFeuz yeaaaahhhhh https://t.co/53VlXT...</td>\n",
       "      <td>50</td>\n",
       "      <td>964458448065884160</td>\n",
       "      <td>2018-02-16 11:16:27</td>\n",
       "      <td>Twitter for iPhone</td>\n",
       "      <td>4044</td>\n",
       "      <td>416</td>\n",
       "      <td>0</td>\n",
       "    </tr>\n",
       "    <tr>\n",
       "      <th>4</th>\n",
       "      <td>🎿🇨🇭🥈💪 Congratulations Wendy https://t.co/MCiMr...</td>\n",
       "      <td>51</td>\n",
       "      <td>964458008695726080</td>\n",
       "      <td>2018-02-16 11:14:42</td>\n",
       "      <td>Twitter for iPhone</td>\n",
       "      <td>8796</td>\n",
       "      <td>633</td>\n",
       "      <td>0</td>\n",
       "    </tr>\n",
       "    <tr>\n",
       "      <th>5</th>\n",
       "      <td>🎿🇨🇭🥉Super Beat https://t.co/rtXBmE1OKO</td>\n",
       "      <td>38</td>\n",
       "      <td>964048306916810752</td>\n",
       "      <td>2018-02-15 08:06:42</td>\n",
       "      <td>Tweetbot for iΟS</td>\n",
       "      <td>7032</td>\n",
       "      <td>577</td>\n",
       "      <td>1</td>\n",
       "    </tr>\n",
       "    <tr>\n",
       "      <th>6</th>\n",
       "      <td>🥌  🇨🇭 🥈 Gratulation https://t.co/FXszdzAJ2E</td>\n",
       "      <td>43</td>\n",
       "      <td>963413624344727554</td>\n",
       "      <td>2018-02-13 14:04:42</td>\n",
       "      <td>Tweetbot for iΟS</td>\n",
       "      <td>8812</td>\n",
       "      <td>803</td>\n",
       "      <td>0</td>\n",
       "    </tr>\n",
       "    <tr>\n",
       "      <th>7</th>\n",
       "      <td>Thank you to all the amazing fans who greeted ...</td>\n",
       "      <td>95</td>\n",
       "      <td>958943843415597056</td>\n",
       "      <td>2018-02-01 06:03:23</td>\n",
       "      <td>Twitter for iPhone</td>\n",
       "      <td>54956</td>\n",
       "      <td>7128</td>\n",
       "      <td>1</td>\n",
       "    </tr>\n",
       "    <tr>\n",
       "      <th>8</th>\n",
       "      <td>Thank you Australia for the support, the passi...</td>\n",
       "      <td>134</td>\n",
       "      <td>958941242334748672</td>\n",
       "      <td>2018-02-01 05:53:03</td>\n",
       "      <td>Twitter for iPhone</td>\n",
       "      <td>61120</td>\n",
       "      <td>8543</td>\n",
       "      <td>1</td>\n",
       "    </tr>\n",
       "    <tr>\n",
       "      <th>9</th>\n",
       "      <td>Norman looks even more shiny in the daytime 🌞 ...</td>\n",
       "      <td>75</td>\n",
       "      <td>957784623727050753</td>\n",
       "      <td>2018-01-29 01:17:03</td>\n",
       "      <td>Twitter for iPhone</td>\n",
       "      <td>56883</td>\n",
       "      <td>7314</td>\n",
       "      <td>1</td>\n",
       "    </tr>\n",
       "  </tbody>\n",
       "</table>\n",
       "</div>"
      ],
      "text/plain": [
       "                                              Tweets  len                  ID  \\\n",
       "0  It's been a long road, and sometimes windy, bu...  140  964664653107249153   \n",
       "1  Apparently I'm the oldest tennis player with a...  140  964645219760201728   \n",
       "2  🇨🇭🥇 woooooow @dariocologna https://t.co/Nr79FC...   50  964458889784815617   \n",
       "3  🎿🇨🇭🥈 @BeatFeuz yeaaaahhhhh https://t.co/53VlXT...   50  964458448065884160   \n",
       "4  🎿🇨🇭🥈💪 Congratulations Wendy https://t.co/MCiMr...   51  964458008695726080   \n",
       "5             🎿🇨🇭🥉Super Beat https://t.co/rtXBmE1OKO   38  964048306916810752   \n",
       "6        🥌  🇨🇭 🥈 Gratulation https://t.co/FXszdzAJ2E   43  963413624344727554   \n",
       "7  Thank you to all the amazing fans who greeted ...   95  958943843415597056   \n",
       "8  Thank you Australia for the support, the passi...  134  958941242334748672   \n",
       "9  Norman looks even more shiny in the daytime 🌞 ...   75  957784623727050753   \n",
       "\n",
       "                 Date              Source  Likes    RTs  SA  \n",
       "0 2018-02-17 00:55:50  Twitter for iPhone  15416   3434   1  \n",
       "1 2018-02-16 23:38:37  Twitter for iPhone  66745  19937   1  \n",
       "2 2018-02-16 11:18:12  Twitter for iPhone   6590    634   0  \n",
       "3 2018-02-16 11:16:27  Twitter for iPhone   4044    416   0  \n",
       "4 2018-02-16 11:14:42  Twitter for iPhone   8796    633   0  \n",
       "5 2018-02-15 08:06:42    Tweetbot for iΟS   7032    577   1  \n",
       "6 2018-02-13 14:04:42    Tweetbot for iΟS   8812    803   0  \n",
       "7 2018-02-01 06:03:23  Twitter for iPhone  54956   7128   1  \n",
       "8 2018-02-01 05:53:03  Twitter for iPhone  61120   8543   1  \n",
       "9 2018-01-29 01:17:03  Twitter for iPhone  56883   7314   1  "
      ]
     },
     "metadata": {},
     "output_type": "display_data"
    }
   ],
   "source": [
    "# We create a column with the result of the analysis:\n",
    "data['SA'] = np.array([ analize_sentiment(tweet) for tweet in data['Tweets'] ])\n",
    "\n",
    "# We display the updated dataframe with the new column:\n",
    "display(data.head(10))"
   ]
  },
  {
   "cell_type": "code",
   "execution_count": 26,
   "metadata": {
    "collapsed": true
   },
   "outputs": [],
   "source": [
    "# We construct lists with classified tweets:\n",
    "\n",
    "pos_tweets = [ tweet for index, tweet in enumerate(data['Tweets']) if data['SA'][index] > 0]\n",
    "neu_tweets = [ tweet for index, tweet in enumerate(data['Tweets']) if data['SA'][index] == 0]\n",
    "neg_tweets = [ tweet for index, tweet in enumerate(data['Tweets']) if data['SA'][index] < 0]"
   ]
  },
  {
   "cell_type": "code",
   "execution_count": 28,
   "metadata": {
    "collapsed": false
   },
   "outputs": [
    {
     "name": "stdout",
     "output_type": "stream",
     "text": [
      "Percentage of positive tweets: 38.0%\n",
      "Percentage of neutral tweets: 60.5%\n",
      "Percentage de negative tweets: 1.5%\n"
     ]
    }
   ],
   "source": [
    "# We print percentages:\n",
    "\n",
    "print(\"Percentage of positive tweets: {}%\".format(len(pos_tweets)*100/len(data['Tweets'])))\n",
    "print(\"Percentage of neutral tweets: {}%\".format(len(neu_tweets)*100/len(data['Tweets'])))\n",
    "print(\"Percentage de negative tweets: {}%\".format(len(neg_tweets)*100/len(data['Tweets'])))"
   ]
  },
  {
   "cell_type": "code",
   "execution_count": null,
   "metadata": {
    "collapsed": true
   },
   "outputs": [],
   "source": []
  }
 ],
 "metadata": {
  "kernelspec": {
   "display_name": "Python 3",
   "language": "python",
   "name": "python3"
  },
  "language_info": {
   "codemirror_mode": {
    "name": "ipython",
    "version": 3
   },
   "file_extension": ".py",
   "mimetype": "text/x-python",
   "name": "python",
   "nbconvert_exporter": "python",
   "pygments_lexer": "ipython3",
   "version": "3.6.0"
  }
 },
 "nbformat": 4,
 "nbformat_minor": 2
}
